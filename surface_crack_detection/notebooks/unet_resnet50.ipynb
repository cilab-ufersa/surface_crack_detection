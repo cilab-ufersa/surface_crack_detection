{
 "cells": [
  {
   "cell_type": "markdown",
   "metadata": {},
   "source": [
    "### **1. Importing libraries**"
   ]
  },
  {
   "cell_type": "code",
   "execution_count": 1,
   "metadata": {},
   "outputs": [],
   "source": [
    "import tensorflow as tf\n",
    "import numpy as np\n",
    "import pandas as pd\n",
    "import matplotlib.pyplot as plt\n",
    "import cv2\n",
    "\n",
    "from keras.models import load_model\n",
    "from sklearn.model_selection import train_test_split\n",
    "from sklearn.metrics import classification_report\n",
    "from utils.utils import split_data\n",
    "from crack_segmentation.subroutines.loss_metrics import (\n",
    "    Weighted_Cross_Entropy,\n",
    "    F1_score_dil,\n",
    "    F1_score,\n",
    "    Precision_dil\n",
    ")"
   ]
  },
  {
   "cell_type": "markdown",
   "metadata": {},
   "source": [
    "### **2. Loading the dataset**"
   ]
  },
  {
   "cell_type": "code",
   "execution_count": 2,
   "metadata": {},
   "outputs": [
    {
     "name": "stdout",
     "output_type": "stream",
     "text": [
      "Found 3840 validated image filenames belonging to 2 classes.\n",
      "Found 960 validated image filenames belonging to 2 classes.\n",
      "Found 1200 validated image filenames belonging to 2 classes.\n"
     ]
    }
   ],
   "source": [
    "dataset = pd.read_csv('../dataset/dataset_final.csv')\n",
    "\n",
    "dataset['Filepath'] = dataset['Filepath'].apply(lambda x: '../' + x)\n",
    "\n",
    "train_df, test_df = train_test_split(\n",
    "    dataset.sample(6000, random_state=42),\n",
    "    train_size=0.80,\n",
    "    random_state=42\n",
    ")\n",
    "\n",
    "preprocess_input = tf.keras.applications.resnet.preprocess_input\n",
    "\n",
    "train_data, valid_data, test_data = split_data(\n",
    "        train_df, \n",
    "        test_df, \n",
    "        image_height=224,\n",
    "        image_width=224,\n",
    "        image_channels=1.0, \n",
    "        preprocess_input=preprocess_input,\n",
    "    )"
   ]
  },
  {
   "cell_type": "markdown",
   "metadata": {},
   "source": [
    "### **3. Importing the UNet-ResNet50 Model**"
   ]
  },
  {
   "cell_type": "code",
   "execution_count": 3,
   "metadata": {},
   "outputs": [
    {
     "name": "stderr",
     "output_type": "stream",
     "text": [
      "2024-03-12 17:14:20.663482: I tensorflow/stream_executor/cuda/cuda_gpu_executor.cc:975] successful NUMA node read from SysFS had negative value (-1), but there must be at least one NUMA node, so returning NUMA node zero\n",
      "2024-03-12 17:14:20.693761: W tensorflow/stream_executor/platform/default/dso_loader.cc:64] Could not load dynamic library 'libcudnn.so.8'; dlerror: libcudnn.so.8: cannot open shared object file: No such file or directory; LD_LIBRARY_PATH: /home/cilab_user/surface_crack_detection/cilab/lib/python3.10/site-packages/cv2/../../lib64:\n",
      "2024-03-12 17:14:20.693783: W tensorflow/core/common_runtime/gpu/gpu_device.cc:1850] Cannot dlopen some GPU libraries. Please make sure the missing libraries mentioned above are installed properly if you would like to use GPU. Follow the guide at https://www.tensorflow.org/install/gpu for how to download and setup the required libraries for your platform.\n",
      "Skipping registering GPU devices...\n",
      "2024-03-12 17:14:20.694511: I tensorflow/core/platform/cpu_feature_guard.cc:193] This TensorFlow binary is optimized with oneAPI Deep Neural Network Library (oneDNN) to use the following CPU instructions in performance-critical operations:  AVX2 FMA\n",
      "To enable them in other operations, rebuild TensorFlow with the appropriate compiler flags.\n"
     ]
    }
   ],
   "source": [
    "model = load_model(\n",
    "    'crack_segmentation/output/checkpoints/unet_resnet50.h5',\n",
    "    custom_objects={\n",
    "        'loss': Weighted_Cross_Entropy(10),\n",
    "        'F1_score': F1_score,\n",
    "        'F1_score_dil': F1_score_dil,\n",
    "        'Precision_dil': Precision_dil\n",
    "    },\n",
    "    compile=False\n",
    ")\n",
    "\n",
    "optimizer = tf.keras.optimizers.Adam(learning_rate=0.0005)\n",
    "\n",
    "model.compile(optimizer, loss=\"sparse_categorical_crossentropy\", metrics=[\"accuracy\"])"
   ]
  },
  {
   "cell_type": "markdown",
   "metadata": {},
   "source": [
    "### **4. Evaluating the model**"
   ]
  },
  {
   "cell_type": "code",
   "execution_count": 4,
   "metadata": {},
   "outputs": [
    {
     "name": "stdout",
     "output_type": "stream",
     "text": [
      "38/38 [==============================] - 144s 4s/step - loss: 2.9397 - accuracy: 0.9533\n",
      "loss' model: 2.93967604637146\n",
      "accuracy's model: 0.95333331823349\n"
     ]
    }
   ],
   "source": [
    "loss, acc = model.evaluate(test_data)\n",
    "\n",
    "print(f\"loss' model: {loss}\")\n",
    "print(f\"accuracy's model: {acc}\")\n"
   ]
  },
  {
   "cell_type": "markdown",
   "metadata": {},
   "source": [
    "### **5. Making predictions**"
   ]
  },
  {
   "cell_type": "code",
   "execution_count": 5,
   "metadata": {},
   "outputs": [
    {
     "name": "stdout",
     "output_type": "stream",
     "text": [
      "38/38 [==============================] - 142s 4s/step\n",
      "              precision    recall  f1-score   support\n",
      "\n",
      "           0       0.92      0.99      0.95       576\n",
      "           1       0.99      0.92      0.95       624\n",
      "\n",
      "    accuracy                           0.95      1200\n",
      "   macro avg       0.95      0.95      0.95      1200\n",
      "weighted avg       0.96      0.95      0.95      1200\n",
      "\n"
     ]
    }
   ],
   "source": [
    "y_pred = np.argmax(model.predict(test_data), axis=-1)\n",
    "metrics = classification_report(test_data.labels, y_pred)\n",
    "\n",
    "print(metrics)"
   ]
  }
 ],
 "metadata": {
  "kernelspec": {
   "display_name": "cilab",
   "language": "python",
   "name": "python3"
  },
  "language_info": {
   "codemirror_mode": {
    "name": "ipython",
    "version": 3
   },
   "file_extension": ".py",
   "mimetype": "text/x-python",
   "name": "python",
   "nbconvert_exporter": "python",
   "pygments_lexer": "ipython3",
   "version": "3.10.12"
  }
 },
 "nbformat": 4,
 "nbformat_minor": 2
}
