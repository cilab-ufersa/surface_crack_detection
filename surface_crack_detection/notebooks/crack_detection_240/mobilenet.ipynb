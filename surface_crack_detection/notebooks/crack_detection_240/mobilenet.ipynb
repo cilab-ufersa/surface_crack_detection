{
 "cells": [
  {
   "cell_type": "markdown",
   "metadata": {},
   "source": [
    "### 1. Importing necessary libraries"
   ]
  },
  {
   "cell_type": "code",
   "execution_count": 27,
   "metadata": {
    "ExecuteTime": {
     "end_time": "2024-04-02T18:42:37.239485Z",
     "start_time": "2024-04-02T18:42:28.897097Z"
    }
   },
   "source": [
    "import tensorflow as tf\n",
    "import pandas as pd\n",
    "import numpy as np\n",
    "import matplotlib.pyplot as plt\n",
    "\n",
    "from sklearn.metrics import (\n",
    "    classification_report,\n",
    "    f1_score,\n",
    "    precision_score,\n",
    "    recall_score\n",
    ")\n",
    "from utils.utils import plot_confusion_matrix, generate_tensor"
   ],
   "outputs": []
  },
  {
   "cell_type": "markdown",
   "metadata": {},
   "source": [
    "### 2. Loading the dataset"
   ]
  },
  {
   "cell_type": "code",
   "execution_count": 28,
   "metadata": {
    "ExecuteTime": {
     "end_time": "2024-04-02T18:42:37.420601Z",
     "start_time": "2024-04-02T18:42:37.243003Z"
    }
   },
   "source": [
    "dataset = pd.read_csv('../dataset/dataset.csv')\n",
    "\n",
    "test_df = dataset.sample(frac=1.0, random_state=42)\n",
    "test_data = generate_tensor(test_df, image_size=(96,96), class_mode='categorical')\n",
    "\n",
    "test_data.image_shape"
   ],
   "outputs": []
  },
  {
   "cell_type": "markdown",
   "metadata": {},
   "source": [
    "### 3. Loading the Unet-MobileNet model"
   ]
  },
  {
   "cell_type": "code",
   "execution_count": 29,
   "metadata": {
    "ExecuteTime": {
     "end_time": "2024-04-02T18:42:41.946870Z",
     "start_time": "2024-04-02T18:42:37.422628Z"
    }
   },
   "source": [
    "model = tf.keras.models.load_model('models/trained/model99.h5', compile=False)\n",
    "\n",
    "model.compile(optimizer='adam', loss='categorical_crossentropy', metrics=['accuracy'])\n",
    "model.summary()"
   ],
   "outputs": []
  },
  {
   "cell_type": "markdown",
   "metadata": {},
   "source": [
    "### 4. Making predictions"
   ]
  },
  {
   "cell_type": "code",
   "execution_count": 30,
   "metadata": {
    "ExecuteTime": {
     "end_time": "2024-04-02T18:45:54.480901Z",
     "start_time": "2024-04-02T18:42:41.948882Z"
    }
   },
   "source": [
    "y_pred = np.argmax(model.predict(test_data), axis=-1)"
   ],
   "outputs": []
  },
  {
   "cell_type": "markdown",
   "metadata": {},
   "source": [
    "#### 4.1. Classification report"
   ]
  },
  {
   "cell_type": "code",
   "execution_count": 31,
   "metadata": {
    "ExecuteTime": {
     "end_time": "2024-04-02T18:45:54.512063Z",
     "start_time": "2024-04-02T18:45:54.484641Z"
    }
   },
   "source": [
    "cr = classification_report(test_data.labels, y_pred)\n",
    "\n",
    "print(cr)"
   ],
   "outputs": []
  },
  {
   "cell_type": "markdown",
   "metadata": {},
   "source": [
    "#### 4.2. F1, Precision and Recall Score"
   ]
  },
  {
   "cell_type": "code",
   "execution_count": 32,
   "metadata": {
    "ExecuteTime": {
     "end_time": "2024-04-02T18:45:54.537193Z",
     "start_time": "2024-04-02T18:45:54.514256Z"
    }
   },
   "source": [
    "x = f1_score(test_data.labels, y_pred,)\n",
    "y = precision_score(test_data.labels, y_pred)\n",
    "z = recall_score(test_data.labels, y_pred)"
   ],
   "outputs": []
  },
  {
   "cell_type": "code",
   "execution_count": 33,
   "metadata": {
    "ExecuteTime": {
     "end_time": "2024-04-02T18:45:54.547820Z",
     "start_time": "2024-04-02T18:45:54.539369Z"
    }
   },
   "source": [
    "print(f'F1 Score: {round(x*100,2)}%')\n",
    "print(f'Precision Score: {round(y*100,2)}%')\n",
    "print(f'Recall Score: {round(z*100,2)}%')"
   ],
   "outputs": []
  },
  {
   "cell_type": "markdown",
   "metadata": {},
   "source": [
    "#### 4.3. Confusion matrix"
   ]
  },
  {
   "cell_type": "code",
   "execution_count": 34,
   "metadata": {
    "ExecuteTime": {
     "end_time": "2024-04-02T18:45:54.751813Z",
     "start_time": "2024-04-02T18:45:54.549968Z"
    }
   },
   "source": [
    "disp = plot_confusion_matrix(test_data.labels, y_pred, title='MobileNet V1')\n",
    "\n",
    "plt.show()"
   ],
   "outputs": []
  },
  {
   "cell_type": "code",
   "execution_count": 35,
   "metadata": {},
   "source": [
    "disp.figure_.savefig('./models/figures/vgg16/mobilenetv1-confusion-matrix.eps')\n",
    "disp.figure_.savefig('./models/figures/vgg16/mobilenetv1-confusion-matrix.png')"
   ],
   "outputs": []
  },
  {
   "cell_type": "markdown",
   "metadata": {},
   "source": [
    "### 4. Evaluating the model"
   ]
  },
  {
   "cell_type": "code",
   "execution_count": 36,
   "metadata": {},
   "source": [
    "print(model.metrics_names)"
   ],
   "outputs": []
  },
  {
   "cell_type": "code",
   "execution_count": 37,
   "metadata": {
    "ExecuteTime": {
     "end_time": "2024-04-02T18:49:00.523732Z",
     "start_time": "2024-04-02T18:45:54.752913Z"
    }
   },
   "source": [
    "loss, acc = model.evaluate(test_data)"
   ],
   "outputs": []
  },
  {
   "cell_type": "code",
   "execution_count": 38,
   "metadata": {
    "ExecuteTime": {
     "end_time": "2024-04-02T18:49:00.534939Z",
     "start_time": "2024-04-02T18:49:00.525885Z"
    }
   },
   "source": [
    "print(f'acc: {round(acc*100,2)}%')\n",
    "print(f'loss: {loss}' )"
   ],
   "outputs": []
  }
 ],
 "metadata": {
  "kernelspec": {
   "display_name": "cilab",
   "language": "python",
   "name": "python3"
  },
  "language_info": {
   "codemirror_mode": {
    "name": "ipython",
    "version": 3
   },
   "file_extension": ".py",
   "mimetype": "text/x-python",
   "name": "python",
   "nbconvert_exporter": "python",
   "pygments_lexer": "ipython3",
   "version": "3.11.6"
  }
 },
 "nbformat": 4,
 "nbformat_minor": 2
}
