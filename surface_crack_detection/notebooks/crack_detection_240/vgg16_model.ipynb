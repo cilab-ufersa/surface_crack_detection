{
 "cells": [
  {
   "cell_type": "markdown",
   "metadata": {},
   "source": [
    "### 1. Importing necessary libraries"
   ]
  },
  {
   "cell_type": "code",
   "execution_count": 1,
   "metadata": {
    "ExecuteTime": {
     "end_time": "2024-04-02T12:23:02.439567Z",
     "start_time": "2024-04-02T12:22:54.189895Z"
    }
   },
   "source": [
    "import numpy as np\n",
    "import matplotlib.pyplot as plt\n",
    "import pandas as pd\n",
    "import tensorflow as tf\n",
    "\n",
    "from sklearn.metrics import (\n",
    "    f1_score,\n",
    "    precision_score,\n",
    "    recall_score,\n",
    ")\n",
    "from utils.utils import plot_confusion_matrix, generate_tensor"
   ],
   "outputs": []
  },
  {
   "cell_type": "markdown",
   "metadata": {},
   "source": [
    "### 2. Loading the dataset"
   ]
  },
  {
   "cell_type": "code",
   "execution_count": 2,
   "metadata": {
    "ExecuteTime": {
     "end_time": "2024-04-02T12:23:02.451425Z",
     "start_time": "2024-04-02T12:23:02.441312Z"
    }
   },
   "source": [
    "dataset = pd.read_csv('../dataset/dataset.csv')"
   ],
   "outputs": []
  },
  {
   "cell_type": "markdown",
   "metadata": {},
   "source": [
    "### 3. Preparing the data"
   ]
  },
  {
   "cell_type": "code",
   "execution_count": 3,
   "metadata": {
    "ExecuteTime": {
     "end_time": "2024-04-02T12:23:02.460709Z",
     "start_time": "2024-04-02T12:23:02.452533Z"
    }
   },
   "source": [
    "test_df = dataset.sample(frac=1.0, random_state=42)"
   ],
   "outputs": []
  },
  {
   "cell_type": "code",
   "execution_count": 4,
   "metadata": {
    "ExecuteTime": {
     "end_time": "2024-04-02T12:23:02.566936Z",
     "start_time": "2024-04-02T12:23:02.461765Z"
    }
   },
   "source": [
    "test_data = generate_tensor(test_df, image_size=(150,150))"
   ],
   "outputs": []
  },
  {
   "cell_type": "markdown",
   "metadata": {},
   "source": [
    "### 4. Loading the VGG16 model"
   ]
  },
  {
   "cell_type": "code",
   "execution_count": 5,
   "metadata": {
    "ExecuteTime": {
     "end_time": "2024-04-02T12:23:03.670913Z",
     "start_time": "2024-04-02T12:23:02.569120Z"
    }
   },
   "source": [
    "model = tf.keras.models.load_model('./models/trained/vgg_model.h5')\n",
    "\n",
    "model.summary()"
   ],
   "outputs": []
  },
  {
   "cell_type": "markdown",
   "metadata": {},
   "source": [
    "### 5. Making predictions"
   ]
  },
  {
   "cell_type": "code",
   "execution_count": 6,
   "metadata": {
    "ExecuteTime": {
     "end_time": "2024-04-02T12:23:47.566321Z",
     "start_time": "2024-04-02T12:23:03.673694Z"
    }
   },
   "source": [
    "y_pred = np.squeeze(model.predict(test_data) >= 0.5).astype(np.int32)"
   ],
   "outputs": []
  },
  {
   "cell_type": "code",
   "execution_count": 7,
   "metadata": {
    "ExecuteTime": {
     "end_time": "2024-04-02T12:23:47.606178Z",
     "start_time": "2024-04-02T12:23:47.570045Z"
    }
   },
   "source": [
    "x = f1_score(y_true=test_data.labels, y_pred=y_pred, average='weighted')\n",
    "y = precision_score(y_true=test_data.labels, y_pred=y_pred, average='weighted')\n",
    "z = recall_score(y_true=test_data.labels, y_pred=y_pred, average='weighted')"
   ],
   "outputs": []
  },
  {
   "cell_type": "code",
   "execution_count": 8,
   "metadata": {
    "ExecuteTime": {
     "end_time": "2024-04-02T12:23:47.620269Z",
     "start_time": "2024-04-02T12:23:47.608399Z"
    }
   },
   "source": [
    "print(f'F1 Score: {round(x*100,2)}%')\n",
    "print(f'Precision Score: {round(y*100,2)}%')\n",
    "print(f'Recall Score: {round(z*100,2)}%')"
   ],
   "outputs": []
  },
  {
   "cell_type": "code",
   "execution_count": 9,
   "metadata": {
    "ExecuteTime": {
     "end_time": "2024-04-02T12:23:48.233873Z",
     "start_time": "2024-04-02T12:23:47.624712Z"
    }
   },
   "source": [
    "disp = plot_confusion_matrix(test_data.labels, y_pred, title='VGG-16')\n",
    "\n",
    "plt.show()"
   ],
   "outputs": []
  },
  {
   "cell_type": "code",
   "execution_count": 10,
   "metadata": {
    "ExecuteTime": {
     "end_time": "2024-04-02T12:23:48.588188Z",
     "start_time": "2024-04-02T12:23:48.235535Z"
    }
   },
   "source": [
    "disp.figure_.savefig('./models/figures/vgg16/VGG-confusion-matrix.eps')\n",
    "disp.figure_.savefig('./models/figures/vgg16/VGG-confusion-matrix.png')"
   ],
   "outputs": []
  },
  {
   "cell_type": "markdown",
   "metadata": {},
   "source": [
    "### 6. Evaluating the model"
   ]
  },
  {
   "cell_type": "code",
   "execution_count": 11,
   "metadata": {
    "ExecuteTime": {
     "end_time": "2024-04-02T12:24:28.330298Z",
     "start_time": "2024-04-02T12:23:48.589746Z"
    }
   },
   "source": [
    "loss, acc = model.evaluate(test_data)"
   ],
   "outputs": []
  },
  {
   "cell_type": "code",
   "execution_count": 12,
   "metadata": {
    "ExecuteTime": {
     "end_time": "2024-04-02T12:24:28.340747Z",
     "start_time": "2024-04-02T12:24:28.332511Z"
    }
   },
   "source": [
    "print(f'acc: {round(acc*100,2)}%')\n",
    "print(f'loss: {loss}' )"
   ],
   "outputs": []
  }
 ],
 "metadata": {
  "kernelspec": {
   "display_name": "cilab",
   "language": "python",
   "name": "python3"
  },
  "language_info": {
   "codemirror_mode": {
    "name": "ipython",
    "version": 3
   },
   "file_extension": ".py",
   "mimetype": "text/x-python",
   "name": "python",
   "nbconvert_exporter": "python",
   "pygments_lexer": "ipython3",
   "version": "3.11.5"
  },
  "orig_nbformat": 4
 },
 "nbformat": 4,
 "nbformat_minor": 2
}
