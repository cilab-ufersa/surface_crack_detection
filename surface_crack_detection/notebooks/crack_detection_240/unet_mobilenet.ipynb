{
 "cells": [
  {
   "cell_type": "markdown",
   "metadata": {},
   "source": [
    "### 1. Importing necessary libraries"
   ]
  },
  {
   "cell_type": "code",
   "execution_count": 1,
   "metadata": {
    "ExecuteTime": {
     "end_time": "2024-04-02T18:42:37.239485Z",
     "start_time": "2024-04-02T18:42:28.897097Z"
    }
   },
   "source": [
    "import tensorflow as tf\n",
    "import pandas as pd\n",
    "import numpy as np\n",
    "import matplotlib.pyplot as plt\n",
    "\n",
    "from sklearn.metrics import (\n",
    "    classification_report,\n",
    "    f1_score,\n",
    "    precision_score,\n",
    "    recall_score\n",
    ")\n",
    "from utils.utils import plot_confusion_matrix, generate_tensor\n",
    "\n",
    "from crack_segmentation.subroutines.loss_metrics import (\n",
    "    Weighted_Cross_Entropy,\n",
    "    F1_score,\n",
    "    Precision_dil,\n",
    "    F1_score_dil\n",
    ")"
   ],
   "outputs": []
  },
  {
   "cell_type": "markdown",
   "metadata": {},
   "source": [
    "### 2. Loading the dataset"
   ]
  },
  {
   "cell_type": "code",
   "execution_count": 2,
   "metadata": {
    "ExecuteTime": {
     "end_time": "2024-04-02T18:42:37.420601Z",
     "start_time": "2024-04-02T18:42:37.243003Z"
    }
   },
   "source": [
    "dataset = pd.read_csv('../dataset/dataset.csv')\n",
    "\n",
    "test_df = dataset.sample(frac=1.0, random_state=42)\n",
    "test_data = generate_tensor(test_df, image_size=(224,224), class_mode='categorical')"
   ],
   "outputs": []
  },
  {
   "cell_type": "markdown",
   "metadata": {},
   "source": [
    "### 3. Loading the Unet-MobileNet model"
   ]
  },
  {
   "cell_type": "code",
   "execution_count": 3,
   "metadata": {
    "ExecuteTime": {
     "end_time": "2024-04-02T18:42:41.946870Z",
     "start_time": "2024-04-02T18:42:37.422628Z"
    }
   },
   "source": [
    "model = tf.keras.models.load_model(\n",
    "    'models/trained/unet_mobilenet.h5',\n",
    "    custom_objects={\n",
    "        'loss': Weighted_Cross_Entropy(10),\n",
    "        'F1_score': F1_score,\n",
    "        'F1_score_dil': F1_score_dil,\n",
    "        'Precision_dil': Precision_dil\n",
    "    }\n",
    ")\n",
    "\n",
    "model.summary()"
   ],
   "outputs": []
  },
  {
   "cell_type": "markdown",
   "metadata": {},
   "source": [
    "### 4. Making predictions"
   ]
  },
  {
   "cell_type": "code",
   "execution_count": 4,
   "metadata": {
    "ExecuteTime": {
     "end_time": "2024-04-02T18:45:54.480901Z",
     "start_time": "2024-04-02T18:42:41.948882Z"
    }
   },
   "source": [
    "y_pred = np.argmax(model.predict(test_data), axis=-1).astype(np.uint8)"
   ],
   "outputs": []
  },
  {
   "cell_type": "markdown",
   "metadata": {},
   "source": [
    "#### 4.1. Classification report"
   ]
  },
  {
   "cell_type": "code",
   "execution_count": 5,
   "metadata": {
    "ExecuteTime": {
     "end_time": "2024-04-02T18:45:54.512063Z",
     "start_time": "2024-04-02T18:45:54.484641Z"
    }
   },
   "source": [
    "cr = classification_report(test_data.labels, y_pred)\n",
    "\n",
    "print(cr)"
   ],
   "outputs": []
  },
  {
   "cell_type": "markdown",
   "metadata": {},
   "source": [
    "#### 4.2. F1, Precision and Recall Score"
   ]
  },
  {
   "cell_type": "code",
   "execution_count": 6,
   "metadata": {
    "ExecuteTime": {
     "end_time": "2024-04-02T18:45:54.537193Z",
     "start_time": "2024-04-02T18:45:54.514256Z"
    }
   },
   "source": [
    "x = f1_score(test_data.labels, y_pred,)\n",
    "y = precision_score(test_data.labels, y_pred)\n",
    "z = recall_score(test_data.labels, y_pred)"
   ],
   "outputs": []
  },
  {
   "cell_type": "code",
   "execution_count": 7,
   "metadata": {
    "ExecuteTime": {
     "end_time": "2024-04-02T18:45:54.547820Z",
     "start_time": "2024-04-02T18:45:54.539369Z"
    }
   },
   "source": [
    "print(f'F1 Score: {round(x*100,2)}%')\n",
    "print(f'Precision Score: {round(y*100,2)}%')\n",
    "print(f'Recall Score: {round(z*100,2)}%')"
   ],
   "outputs": []
  },
  {
   "cell_type": "markdown",
   "metadata": {},
   "source": [
    "#### 4.3. Confusion matrix"
   ]
  },
  {
   "cell_type": "code",
   "execution_count": 8,
   "metadata": {
    "ExecuteTime": {
     "end_time": "2024-04-02T18:45:54.751813Z",
     "start_time": "2024-04-02T18:45:54.549968Z"
    }
   },
   "source": [
    "disp = plot_confusion_matrix(test_data.labels, y_pred, title='Unet MobileNet')\n",
    "\n",
    "plt.show()"
   ],
   "outputs": []
  },
  {
   "cell_type": "markdown",
   "metadata": {},
   "source": [
    "### 4. Evaluating the model"
   ]
  },
  {
   "cell_type": "code",
   "execution_count": 9,
   "metadata": {
    "ExecuteTime": {
     "end_time": "2024-04-02T18:49:00.523732Z",
     "start_time": "2024-04-02T18:45:54.752913Z"
    }
   },
   "source": [
    "loss, acc = model.evaluate(test_data)"
   ],
   "outputs": []
  },
  {
   "cell_type": "code",
   "execution_count": 10,
   "metadata": {
    "ExecuteTime": {
     "end_time": "2024-04-02T18:49:00.534939Z",
     "start_time": "2024-04-02T18:49:00.525885Z"
    }
   },
   "source": [
    "print(f'acc: {round(acc*100,2)}%')\n",
    "print(f'loss: {loss}' )"
   ],
   "outputs": []
  }
 ],
 "metadata": {
  "kernelspec": {
   "display_name": "cilab",
   "language": "python",
   "name": "python3"
  },
  "language_info": {
   "codemirror_mode": {
    "name": "ipython",
    "version": 3
   },
   "file_extension": ".py",
   "mimetype": "text/x-python",
   "name": "python",
   "nbconvert_exporter": "python",
   "pygments_lexer": "ipython3",
   "version": "3.11.6"
  }
 },
 "nbformat": 4,
 "nbformat_minor": 2
}
