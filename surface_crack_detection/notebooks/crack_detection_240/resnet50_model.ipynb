{
 "cells": [
  {
   "cell_type": "markdown",
   "metadata": {},
   "source": [
    "### 1. Importing necessary libraries"
   ]
  },
  {
   "cell_type": "code",
   "execution_count": 13,
   "metadata": {
    "ExecuteTime": {
     "end_time": "2024-04-02T12:17:35.043894Z",
     "start_time": "2024-04-02T12:17:34.995546Z"
    }
   },
   "source": [
    "import numpy as np\n",
    "import matplotlib.pyplot as plt\n",
    "import pandas as pd\n",
    "import tensorflow as tf\n",
    "\n",
    "from sklearn.metrics import (\n",
    "    f1_score,\n",
    "    precision_score,\n",
    "    recall_score,\n",
    ")\n",
    "from utils.utils import plot_confusion_matrix, generate_tensor"
   ],
   "outputs": []
  },
  {
   "cell_type": "markdown",
   "metadata": {},
   "source": [
    "### 2. Loading the dataset"
   ]
  },
  {
   "cell_type": "code",
   "execution_count": 14,
   "metadata": {
    "ExecuteTime": {
     "end_time": "2024-04-02T12:17:35.129032Z",
     "start_time": "2024-04-02T12:17:35.049796Z"
    }
   },
   "source": [
    "dataset = pd.read_csv('../dataset/dataset.csv')"
   ],
   "outputs": []
  },
  {
   "cell_type": "markdown",
   "metadata": {},
   "source": [
    "### 3. Preparing the images"
   ]
  },
  {
   "cell_type": "code",
   "execution_count": 15,
   "metadata": {
    "ExecuteTime": {
     "end_time": "2024-04-02T12:17:35.149556Z",
     "start_time": "2024-04-02T12:17:35.132307Z"
    }
   },
   "source": [
    "test_df = dataset.sample(frac=1.0, random_state=42)\n",
    "\n",
    "preprocess_input = tf.keras.applications.resnet.preprocess_input"
   ],
   "outputs": []
  },
  {
   "cell_type": "code",
   "execution_count": 16,
   "metadata": {
    "ExecuteTime": {
     "end_time": "2024-04-02T12:17:35.215671Z",
     "start_time": "2024-04-02T12:17:35.153178Z"
    }
   },
   "source": [
    "test_data = generate_tensor(test_df, (227,227), image_channels=1, preprocess_input=preprocess_input)"
   ],
   "outputs": []
  },
  {
   "cell_type": "markdown",
   "metadata": {},
   "source": [
    "### 4. Loading the ResNet50 model"
   ]
  },
  {
   "cell_type": "code",
   "execution_count": 17,
   "metadata": {
    "ExecuteTime": {
     "end_time": "2024-04-02T12:17:38.349821Z",
     "start_time": "2024-04-02T12:17:35.218397Z"
    }
   },
   "source": [
    "model = tf.keras.models.load_model('./models/trained/resnet50_model.h5')\n",
    "\n",
    "model.summary()"
   ],
   "outputs": []
  },
  {
   "cell_type": "markdown",
   "metadata": {},
   "source": [
    "### 5. Making predictions"
   ]
  },
  {
   "cell_type": "code",
   "execution_count": 18,
   "metadata": {
    "ExecuteTime": {
     "end_time": "2024-04-02T12:18:18.245342Z",
     "start_time": "2024-04-02T12:17:38.351994Z"
    }
   },
   "source": [
    "y_pred = np.argmax(model.predict(test_data), axis=1)"
   ],
   "outputs": []
  },
  {
   "cell_type": "code",
   "execution_count": 19,
   "metadata": {
    "ExecuteTime": {
     "end_time": "2024-04-02T12:18:18.281610Z",
     "start_time": "2024-04-02T12:18:18.248120Z"
    }
   },
   "source": [
    "x = f1_score(y_true=test_data.labels, y_pred=y_pred)\n",
    "y = precision_score(y_true=test_data.labels, y_pred=y_pred)\n",
    "z = recall_score(y_true=test_data.labels, y_pred=y_pred)"
   ],
   "outputs": []
  },
  {
   "cell_type": "code",
   "execution_count": 20,
   "metadata": {
    "ExecuteTime": {
     "end_time": "2024-04-02T12:18:18.292481Z",
     "start_time": "2024-04-02T12:18:18.283850Z"
    }
   },
   "source": [
    "print(f'F1 Score: {round(x*100,2)}%')\n",
    "print(f'Precision Score: {round(y*100,2)}%')\n",
    "print(f'Recall Score: {round(z*100,2)}%')"
   ],
   "outputs": []
  },
  {
   "cell_type": "code",
   "execution_count": 21,
   "metadata": {
    "ExecuteTime": {
     "end_time": "2024-04-02T12:18:18.517915Z",
     "start_time": "2024-04-02T12:18:18.294917Z"
    }
   },
   "source": [
    "disp = plot_confusion_matrix(test_data.labels, y_pred, title = 'ResNet50')\n",
    "\n",
    "plt.show()"
   ],
   "outputs": []
  },
  {
   "cell_type": "code",
   "execution_count": 22,
   "metadata": {
    "ExecuteTime": {
     "end_time": "2024-04-02T12:18:18.639032Z",
     "start_time": "2024-04-02T12:18:18.521553Z"
    }
   },
   "source": [
    "disp.figure_.savefig('./models/figures/resnet50/resnet50_confusion_matrix.eps')\n",
    "disp.figure_.savefig('./models/figures/resnet50/resnet50_confusion_matrix.png')"
   ],
   "outputs": []
  },
  {
   "cell_type": "markdown",
   "metadata": {},
   "source": [
    "### 6. Evaluating the model"
   ]
  },
  {
   "cell_type": "code",
   "execution_count": 23,
   "metadata": {
    "ExecuteTime": {
     "end_time": "2024-04-02T12:19:00.477324Z",
     "start_time": "2024-04-02T12:18:18.640203Z"
    }
   },
   "source": [
    "loss, acc = model.evaluate(test_data)"
   ],
   "outputs": []
  },
  {
   "cell_type": "code",
   "execution_count": 24,
   "metadata": {
    "ExecuteTime": {
     "end_time": "2024-04-02T12:19:00.491304Z",
     "start_time": "2024-04-02T12:19:00.482938Z"
    }
   },
   "source": [
    "print(f'acc: {round(acc*100,2)}%')\n",
    "print(f'loss: {loss}' )"
   ],
   "outputs": []
  }
 ],
 "metadata": {
  "kernelspec": {
   "display_name": "cilab",
   "language": "python",
   "name": "python3"
  },
  "language_info": {
   "codemirror_mode": {
    "name": "ipython",
    "version": 3
   },
   "file_extension": ".py",
   "mimetype": "text/x-python",
   "name": "python",
   "nbconvert_exporter": "python",
   "pygments_lexer": "ipython3",
   "version": "3.11.0rc1"
  },
  "orig_nbformat": 4
 },
 "nbformat": 4,
 "nbformat_minor": 2
}
