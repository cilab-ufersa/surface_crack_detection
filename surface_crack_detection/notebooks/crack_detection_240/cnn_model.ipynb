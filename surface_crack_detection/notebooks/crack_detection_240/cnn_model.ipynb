{
 "cells": [
  {
   "cell_type": "markdown",
   "metadata": {},
   "source": [
    "### **1. Importing necessary libraries**"
   ]
  },
  {
   "cell_type": "code",
   "execution_count": 14,
   "metadata": {
    "ExecuteTime": {
     "end_time": "2024-04-02T12:38:18.212420Z",
     "start_time": "2024-04-02T12:38:18.207557Z"
    }
   },
   "source": [
    "import numpy as np\n",
    "import matplotlib.pyplot as plt\n",
    "import pandas as pd\n",
    "\n",
    "import keras\n",
    "import pickle\n",
    "\n",
    "from sklearn.metrics import classification_report\n",
    "from utils.utils import plot_confusion_matrix, generate_tensor"
   ],
   "outputs": []
  },
  {
   "cell_type": "markdown",
   "metadata": {},
   "source": [
    "### **2. CNN Model**"
   ]
  },
  {
   "cell_type": "code",
   "execution_count": 15,
   "metadata": {
    "ExecuteTime": {
     "end_time": "2024-04-02T12:38:18.409906Z",
     "start_time": "2024-04-02T12:38:18.271327Z"
    }
   },
   "source": [
    "# loading model\n",
    "model = keras.models.load_model('./models/trained/cnn_model.h5')\n",
    "\n",
    "model.summary()"
   ],
   "outputs": []
  },
  {
   "cell_type": "code",
   "execution_count": 16,
   "metadata": {
    "ExecuteTime": {
     "end_time": "2024-04-02T12:38:18.419008Z",
     "start_time": "2024-04-02T12:38:18.413199Z"
    }
   },
   "source": [
    "# loading model's history\n",
    "with open('./models/historys/cnn_model_history', 'rb') as f:\n",
    "    history = pickle.load(f)"
   ],
   "outputs": []
  },
  {
   "cell_type": "markdown",
   "metadata": {},
   "source": [
    "#### 2.1 Curves"
   ]
  },
  {
   "cell_type": "code",
   "execution_count": 17,
   "metadata": {
    "ExecuteTime": {
     "end_time": "2024-04-02T12:38:19.033121Z",
     "start_time": "2024-04-02T12:38:18.420018Z"
    }
   },
   "source": [
    "plt.figure(figsize = (10, 4))\n",
    "\n",
    "plt.subplot(1, 2, 1)\n",
    "plt.plot(history['accuracy'])\n",
    "plt.plot(history['val_accuracy'])\n",
    "plt.title(\"Accuracy \")\n",
    "plt.xlabel(\"Epochs\")\n",
    "plt.ylabel(\"Accuracy\")\n",
    "plt.legend([\"Training\", \"Accuracy\"])\n",
    "\n",
    "plt.subplot(1, 2, 2)\n",
    "plt.plot(history['loss'])\n",
    "plt.plot(history['val_loss'])\n",
    "plt.title(\"Accuracy over time\")\n",
    "plt.xlabel(\"Epochs\")\n",
    "plt.ylabel(\"Loss\")\n",
    "plt.legend([\"Training Loss\", \"Validation Loss\"])\n",
    "\n",
    "plt.show()"
   ],
   "outputs": []
  },
  {
   "cell_type": "markdown",
   "metadata": {},
   "source": [
    "#### 2.2 Loading datas"
   ]
  },
  {
   "cell_type": "code",
   "execution_count": 18,
   "metadata": {
    "ExecuteTime": {
     "end_time": "2024-04-02T12:38:19.045873Z",
     "start_time": "2024-04-02T12:38:19.035128Z"
    }
   },
   "source": [
    "#load dataset\n",
    "dataset = pd.read_csv('../dataset/dataset.csv')\n",
    "\n",
    "dataset.head()"
   ],
   "outputs": []
  },
  {
   "cell_type": "code",
   "execution_count": 19,
   "metadata": {
    "ExecuteTime": {
     "end_time": "2024-04-02T12:38:19.052743Z",
     "start_time": "2024-04-02T12:38:19.046380Z"
    }
   },
   "source": [
    "test_df = dataset.sample(frac=1.0, random_state=42)"
   ],
   "outputs": []
  },
  {
   "cell_type": "code",
   "source": [
    "image_size = (227, 227)\n",
    "\n",
    "test_data = generate_tensor(test_df, image_size=image_size)"
   ],
   "metadata": {
    "collapsed": false,
    "ExecuteTime": {
     "end_time": "2024-04-02T12:38:19.084655Z",
     "start_time": "2024-04-02T12:38:19.053750Z"
    }
   },
   "execution_count": 20,
   "outputs": []
  },
  {
   "cell_type": "markdown",
   "metadata": {},
   "source": [
    "#### 2.3 Testing the model"
   ]
  },
  {
   "cell_type": "code",
   "execution_count": 21,
   "metadata": {
    "ExecuteTime": {
     "end_time": "2024-04-02T12:38:21.228563Z",
     "start_time": "2024-04-02T12:38:19.085661Z"
    }
   },
   "source": [
    "y_pred = np.squeeze(model.predict(test_data) >= 0.5).astype(np.int32)"
   ],
   "outputs": []
  },
  {
   "cell_type": "code",
   "execution_count": 22,
   "metadata": {
    "ExecuteTime": {
     "end_time": "2024-04-02T12:38:21.241351Z",
     "start_time": "2024-04-02T12:38:21.229579Z"
    }
   },
   "source": [
    "from sklearn.metrics import f1_score, precision_score, recall_score\n",
    "\n",
    "x = f1_score(test_data.labels, y_pred)\n",
    "y = precision_score(test_data.labels, y_pred)\n",
    "z = recall_score(test_data.labels, y_pred)"
   ],
   "outputs": []
  },
  {
   "cell_type": "code",
   "source": [
    "print(f'F1 Score: {round(x*100,2)}%')\n",
    "print(f'Precision Score: {round(y*100,2)}%')\n",
    "print(f'Recall Score: {round(z*100,2)}%')"
   ],
   "metadata": {
    "collapsed": false,
    "ExecuteTime": {
     "end_time": "2024-04-02T12:38:21.248327Z",
     "start_time": "2024-04-02T12:38:21.243359Z"
    }
   },
   "execution_count": 23,
   "outputs": []
  },
  {
   "cell_type": "code",
   "execution_count": 24,
   "metadata": {
    "ExecuteTime": {
     "end_time": "2024-04-02T12:38:23.790935Z",
     "start_time": "2024-04-02T12:38:21.250656Z"
    }
   },
   "source": [
    "results = model.evaluate(test_data)\n",
    "\n",
    "# assigning the results into loss and accuracy\n",
    "loss = results[0]\n",
    "accuracy = results[1]\n",
    "\n",
    "# showing up the results\n",
    "print(f\"Model's accuracy: {(accuracy*100):0.2f}%\")\n",
    "print(f\"Model's loss: {(loss):0.2f}\")"
   ],
   "outputs": []
  },
  {
   "cell_type": "code",
   "execution_count": 25,
   "metadata": {
    "ExecuteTime": {
     "end_time": "2024-04-02T12:38:23.901252Z",
     "start_time": "2024-04-02T12:38:23.791944Z"
    }
   },
   "source": [
    "# creating the confusion matrix\n",
    "classifications = classification_report(test_data.labels, y_pred, target_names = [\"Without crack\", \"With crack\"])\n",
    "\n",
    "print(classifications)\n",
    "\n",
    "# ploting the Matrix\n",
    "disp = plot_confusion_matrix(test_data.labels, y_pred, title=\"CNN\")"
   ],
   "outputs": []
  },
  {
   "cell_type": "code",
   "execution_count": 26,
   "metadata": {
    "ExecuteTime": {
     "end_time": "2024-04-02T12:38:23.978930Z",
     "start_time": "2024-04-02T12:38:23.901758Z"
    }
   },
   "source": [
    "disp.figure_.savefig('./models/figures/cnn/CNN-confusion-matrix.png')\n",
    "disp.figure_.savefig('./models/figures/cnn/CNN-confusion-matrix.eps')"
   ],
   "outputs": []
  }
 ],
 "metadata": {
  "kernelspec": {
   "display_name": "cilab",
   "language": "python",
   "name": "python3"
  },
  "language_info": {
   "codemirror_mode": {
    "name": "ipython",
    "version": 3
   },
   "file_extension": ".py",
   "mimetype": "text/x-python",
   "name": "python",
   "nbconvert_exporter": "python",
   "pygments_lexer": "ipython3",
   "version": "3.11.0rc1"
  },
  "orig_nbformat": 4
 },
 "nbformat": 4,
 "nbformat_minor": 2
}
