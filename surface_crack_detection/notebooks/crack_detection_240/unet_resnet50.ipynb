{
 "cells": [
  {
   "cell_type": "markdown",
   "metadata": {},
   "source": [
    "### 1. Importing libraries"
   ]
  },
  {
   "cell_type": "code",
   "execution_count": 4,
   "metadata": {
    "ExecuteTime": {
     "end_time": "2024-04-02T19:00:58.784888Z",
     "start_time": "2024-04-02T19:00:58.779164Z"
    }
   },
   "outputs": [],
   "source": [
    "import tensorflow as tf\n",
    "import numpy as np\n",
    "import pandas as pd\n",
    "import matplotlib.pyplot as plt\n",
    "\n",
    "from keras.models import load_model\n",
    "from sklearn.metrics import (\n",
    "    classification_report,\n",
    "    f1_score,\n",
    "    precision_score,\n",
    "    recall_score\n",
    ")\n",
    "from crack_segmentation.subroutines.loss_metrics import (\n",
    "    Weighted_Cross_Entropy,\n",
    "    F1_score_dil,\n",
    "    F1_score,\n",
    "    Precision_dil\n",
    ")\n",
    "\n",
    "from utils.utils import plot_confusion_matrix, generate_tensor"
   ]
  },
  {
   "cell_type": "markdown",
   "metadata": {},
   "source": [
    "### 2. Loading the dataset"
   ]
  },
  {
   "cell_type": "code",
   "execution_count": 5,
   "metadata": {
    "ExecuteTime": {
     "end_time": "2024-04-02T19:00:58.847653Z",
     "start_time": "2024-04-02T19:00:58.814088Z"
    }
   },
   "outputs": [
    {
     "name": "stdout",
     "output_type": "stream",
     "text": [
      "Found 480 validated image filenames belonging to 2 classes.\n"
     ]
    }
   ],
   "source": [
    "dataset = pd.read_csv('../dataset/dataset.csv')\n",
    "\n",
    "test_df = dataset.sample(frac=1.0, random_state=42)\n",
    "\n",
    "preprocess_input = tf.keras.applications.resnet.preprocess_input\n",
    "\n",
    "test_data = generate_tensor( \n",
    "        test_df, \n",
    "        image_size=(224,224),\n",
    "        image_channels=1,\n",
    "        preprocess_input=preprocess_input\n",
    ")"
   ]
  },
  {
   "cell_type": "markdown",
   "metadata": {},
   "source": [
    "### 3. Importing the UNet-ResNet50 model"
   ]
  },
  {
   "cell_type": "code",
   "execution_count": 15,
   "metadata": {
    "ExecuteTime": {
     "end_time": "2024-04-02T19:11:28.020759Z",
     "start_time": "2024-04-02T19:11:23.731237Z"
    }
   },
   "outputs": [
    {
     "name": "stdout",
     "output_type": "stream",
     "text": [
      "Model: \"model\"\n",
      "__________________________________________________________________________________________________\n",
      " Layer (type)                Output Shape                 Param #   Connected to                  \n",
      "==================================================================================================\n",
      " input_1 (InputLayer)        [(None, 224, 224, 3)]        0         []                            \n",
      "                                                                                                  \n",
      " conv1_pad (ZeroPadding2D)   (None, 225, 225, 3)          0         ['input_1[0][0]']             \n",
      "                                                                                                  \n",
      " conv1 (Conv2D)              (None, 112, 112, 32)         864       ['conv1_pad[0][0]']           \n",
      "                                                                                                  \n",
      " conv1_bn (BatchNormalizati  (None, 112, 112, 32)         128       ['conv1[0][0]']               \n",
      " on)                                                                                              \n",
      "                                                                                                  \n",
      " conv1_relu (ReLU)           (None, 112, 112, 32)         0         ['conv1_bn[0][0]']            \n",
      "                                                                                                  \n",
      " conv_dw_1 (DepthwiseConv2D  (None, 112, 112, 32)         288       ['conv1_relu[0][0]']          \n",
      " )                                                                                                \n",
      "                                                                                                  \n",
      " conv_dw_1_bn (BatchNormali  (None, 112, 112, 32)         128       ['conv_dw_1[0][0]']           \n",
      " zation)                                                                                          \n",
      "                                                                                                  \n",
      " conv_dw_1_relu (ReLU)       (None, 112, 112, 32)         0         ['conv_dw_1_bn[0][0]']        \n",
      "                                                                                                  \n",
      " conv_pw_1 (Conv2D)          (None, 112, 112, 64)         2048      ['conv_dw_1_relu[0][0]']      \n",
      "                                                                                                  \n",
      " conv_pw_1_bn (BatchNormali  (None, 112, 112, 64)         256       ['conv_pw_1[0][0]']           \n",
      " zation)                                                                                          \n",
      "                                                                                                  \n",
      " conv_pw_1_relu (ReLU)       (None, 112, 112, 64)         0         ['conv_pw_1_bn[0][0]']        \n",
      "                                                                                                  \n",
      " conv_pad_2 (ZeroPadding2D)  (None, 113, 113, 64)         0         ['conv_pw_1_relu[0][0]']      \n",
      "                                                                                                  \n",
      " conv_dw_2 (DepthwiseConv2D  (None, 56, 56, 64)           576       ['conv_pad_2[0][0]']          \n",
      " )                                                                                                \n",
      "                                                                                                  \n",
      " conv_dw_2_bn (BatchNormali  (None, 56, 56, 64)           256       ['conv_dw_2[0][0]']           \n",
      " zation)                                                                                          \n",
      "                                                                                                  \n",
      " conv_dw_2_relu (ReLU)       (None, 56, 56, 64)           0         ['conv_dw_2_bn[0][0]']        \n",
      "                                                                                                  \n",
      " conv_pw_2 (Conv2D)          (None, 56, 56, 128)          8192      ['conv_dw_2_relu[0][0]']      \n",
      "                                                                                                  \n",
      " conv_pw_2_bn (BatchNormali  (None, 56, 56, 128)          512       ['conv_pw_2[0][0]']           \n",
      " zation)                                                                                          \n",
      "                                                                                                  \n",
      " conv_pw_2_relu (ReLU)       (None, 56, 56, 128)          0         ['conv_pw_2_bn[0][0]']        \n",
      "                                                                                                  \n",
      " conv_dw_3 (DepthwiseConv2D  (None, 56, 56, 128)          1152      ['conv_pw_2_relu[0][0]']      \n",
      " )                                                                                                \n",
      "                                                                                                  \n",
      " conv_dw_3_bn (BatchNormali  (None, 56, 56, 128)          512       ['conv_dw_3[0][0]']           \n",
      " zation)                                                                                          \n",
      "                                                                                                  \n",
      " conv_dw_3_relu (ReLU)       (None, 56, 56, 128)          0         ['conv_dw_3_bn[0][0]']        \n",
      "                                                                                                  \n",
      " conv_pw_3 (Conv2D)          (None, 56, 56, 128)          16384     ['conv_dw_3_relu[0][0]']      \n",
      "                                                                                                  \n",
      " conv_pw_3_bn (BatchNormali  (None, 56, 56, 128)          512       ['conv_pw_3[0][0]']           \n",
      " zation)                                                                                          \n",
      "                                                                                                  \n",
      " conv_pw_3_relu (ReLU)       (None, 56, 56, 128)          0         ['conv_pw_3_bn[0][0]']        \n",
      "                                                                                                  \n",
      " conv_pad_4 (ZeroPadding2D)  (None, 57, 57, 128)          0         ['conv_pw_3_relu[0][0]']      \n",
      "                                                                                                  \n",
      " conv_dw_4 (DepthwiseConv2D  (None, 28, 28, 128)          1152      ['conv_pad_4[0][0]']          \n",
      " )                                                                                                \n",
      "                                                                                                  \n",
      " conv_dw_4_bn (BatchNormali  (None, 28, 28, 128)          512       ['conv_dw_4[0][0]']           \n",
      " zation)                                                                                          \n",
      "                                                                                                  \n",
      " conv_dw_4_relu (ReLU)       (None, 28, 28, 128)          0         ['conv_dw_4_bn[0][0]']        \n",
      "                                                                                                  \n",
      " conv_pw_4 (Conv2D)          (None, 28, 28, 256)          32768     ['conv_dw_4_relu[0][0]']      \n",
      "                                                                                                  \n",
      " conv_pw_4_bn (BatchNormali  (None, 28, 28, 256)          1024      ['conv_pw_4[0][0]']           \n",
      " zation)                                                                                          \n",
      "                                                                                                  \n",
      " conv_pw_4_relu (ReLU)       (None, 28, 28, 256)          0         ['conv_pw_4_bn[0][0]']        \n",
      "                                                                                                  \n",
      " conv_dw_5 (DepthwiseConv2D  (None, 28, 28, 256)          2304      ['conv_pw_4_relu[0][0]']      \n",
      " )                                                                                                \n",
      "                                                                                                  \n",
      " conv_dw_5_bn (BatchNormali  (None, 28, 28, 256)          1024      ['conv_dw_5[0][0]']           \n",
      " zation)                                                                                          \n",
      "                                                                                                  \n",
      " conv_dw_5_relu (ReLU)       (None, 28, 28, 256)          0         ['conv_dw_5_bn[0][0]']        \n",
      "                                                                                                  \n",
      " conv_pw_5 (Conv2D)          (None, 28, 28, 256)          65536     ['conv_dw_5_relu[0][0]']      \n",
      "                                                                                                  \n",
      " conv_pw_5_bn (BatchNormali  (None, 28, 28, 256)          1024      ['conv_pw_5[0][0]']           \n",
      " zation)                                                                                          \n",
      "                                                                                                  \n",
      " conv_pw_5_relu (ReLU)       (None, 28, 28, 256)          0         ['conv_pw_5_bn[0][0]']        \n",
      "                                                                                                  \n",
      " conv_pad_6 (ZeroPadding2D)  (None, 29, 29, 256)          0         ['conv_pw_5_relu[0][0]']      \n",
      "                                                                                                  \n",
      " conv_dw_6 (DepthwiseConv2D  (None, 14, 14, 256)          2304      ['conv_pad_6[0][0]']          \n",
      " )                                                                                                \n",
      "                                                                                                  \n",
      " conv_dw_6_bn (BatchNormali  (None, 14, 14, 256)          1024      ['conv_dw_6[0][0]']           \n",
      " zation)                                                                                          \n",
      "                                                                                                  \n",
      " conv_dw_6_relu (ReLU)       (None, 14, 14, 256)          0         ['conv_dw_6_bn[0][0]']        \n",
      "                                                                                                  \n",
      " conv_pw_6 (Conv2D)          (None, 14, 14, 512)          131072    ['conv_dw_6_relu[0][0]']      \n",
      "                                                                                                  \n",
      " conv_pw_6_bn (BatchNormali  (None, 14, 14, 512)          2048      ['conv_pw_6[0][0]']           \n",
      " zation)                                                                                          \n",
      "                                                                                                  \n",
      " conv_pw_6_relu (ReLU)       (None, 14, 14, 512)          0         ['conv_pw_6_bn[0][0]']        \n",
      "                                                                                                  \n",
      " conv_dw_7 (DepthwiseConv2D  (None, 14, 14, 512)          4608      ['conv_pw_6_relu[0][0]']      \n",
      " )                                                                                                \n",
      "                                                                                                  \n",
      " conv_dw_7_bn (BatchNormali  (None, 14, 14, 512)          2048      ['conv_dw_7[0][0]']           \n",
      " zation)                                                                                          \n",
      "                                                                                                  \n",
      " conv_dw_7_relu (ReLU)       (None, 14, 14, 512)          0         ['conv_dw_7_bn[0][0]']        \n",
      "                                                                                                  \n",
      " conv_pw_7 (Conv2D)          (None, 14, 14, 512)          262144    ['conv_dw_7_relu[0][0]']      \n",
      "                                                                                                  \n",
      " conv_pw_7_bn (BatchNormali  (None, 14, 14, 512)          2048      ['conv_pw_7[0][0]']           \n",
      " zation)                                                                                          \n",
      "                                                                                                  \n",
      " conv_pw_7_relu (ReLU)       (None, 14, 14, 512)          0         ['conv_pw_7_bn[0][0]']        \n",
      "                                                                                                  \n",
      " conv_dw_8 (DepthwiseConv2D  (None, 14, 14, 512)          4608      ['conv_pw_7_relu[0][0]']      \n",
      " )                                                                                                \n",
      "                                                                                                  \n",
      " conv_dw_8_bn (BatchNormali  (None, 14, 14, 512)          2048      ['conv_dw_8[0][0]']           \n",
      " zation)                                                                                          \n",
      "                                                                                                  \n",
      " conv_dw_8_relu (ReLU)       (None, 14, 14, 512)          0         ['conv_dw_8_bn[0][0]']        \n",
      "                                                                                                  \n",
      " conv_pw_8 (Conv2D)          (None, 14, 14, 512)          262144    ['conv_dw_8_relu[0][0]']      \n",
      "                                                                                                  \n",
      " conv_pw_8_bn (BatchNormali  (None, 14, 14, 512)          2048      ['conv_pw_8[0][0]']           \n",
      " zation)                                                                                          \n",
      "                                                                                                  \n",
      " conv_pw_8_relu (ReLU)       (None, 14, 14, 512)          0         ['conv_pw_8_bn[0][0]']        \n",
      "                                                                                                  \n",
      " conv_dw_9 (DepthwiseConv2D  (None, 14, 14, 512)          4608      ['conv_pw_8_relu[0][0]']      \n",
      " )                                                                                                \n",
      "                                                                                                  \n",
      " conv_dw_9_bn (BatchNormali  (None, 14, 14, 512)          2048      ['conv_dw_9[0][0]']           \n",
      " zation)                                                                                          \n",
      "                                                                                                  \n",
      " conv_dw_9_relu (ReLU)       (None, 14, 14, 512)          0         ['conv_dw_9_bn[0][0]']        \n",
      "                                                                                                  \n",
      " conv_pw_9 (Conv2D)          (None, 14, 14, 512)          262144    ['conv_dw_9_relu[0][0]']      \n",
      "                                                                                                  \n",
      " conv_pw_9_bn (BatchNormali  (None, 14, 14, 512)          2048      ['conv_pw_9[0][0]']           \n",
      " zation)                                                                                          \n",
      "                                                                                                  \n",
      " conv_pw_9_relu (ReLU)       (None, 14, 14, 512)          0         ['conv_pw_9_bn[0][0]']        \n",
      "                                                                                                  \n",
      " conv_dw_10 (DepthwiseConv2  (None, 14, 14, 512)          4608      ['conv_pw_9_relu[0][0]']      \n",
      " D)                                                                                               \n",
      "                                                                                                  \n",
      " conv_dw_10_bn (BatchNormal  (None, 14, 14, 512)          2048      ['conv_dw_10[0][0]']          \n",
      " ization)                                                                                         \n",
      "                                                                                                  \n",
      " conv_dw_10_relu (ReLU)      (None, 14, 14, 512)          0         ['conv_dw_10_bn[0][0]']       \n",
      "                                                                                                  \n",
      " conv_pw_10 (Conv2D)         (None, 14, 14, 512)          262144    ['conv_dw_10_relu[0][0]']     \n",
      "                                                                                                  \n",
      " conv_pw_10_bn (BatchNormal  (None, 14, 14, 512)          2048      ['conv_pw_10[0][0]']          \n",
      " ization)                                                                                         \n",
      "                                                                                                  \n",
      " conv_pw_10_relu (ReLU)      (None, 14, 14, 512)          0         ['conv_pw_10_bn[0][0]']       \n",
      "                                                                                                  \n",
      " conv_dw_11 (DepthwiseConv2  (None, 14, 14, 512)          4608      ['conv_pw_10_relu[0][0]']     \n",
      " D)                                                                                               \n",
      "                                                                                                  \n",
      " conv_dw_11_bn (BatchNormal  (None, 14, 14, 512)          2048      ['conv_dw_11[0][0]']          \n",
      " ization)                                                                                         \n",
      "                                                                                                  \n",
      " conv_dw_11_relu (ReLU)      (None, 14, 14, 512)          0         ['conv_dw_11_bn[0][0]']       \n",
      "                                                                                                  \n",
      " conv_pw_11 (Conv2D)         (None, 14, 14, 512)          262144    ['conv_dw_11_relu[0][0]']     \n",
      "                                                                                                  \n",
      " conv_pw_11_bn (BatchNormal  (None, 14, 14, 512)          2048      ['conv_pw_11[0][0]']          \n",
      " ization)                                                                                         \n",
      "                                                                                                  \n",
      " conv_pw_11_relu (ReLU)      (None, 14, 14, 512)          0         ['conv_pw_11_bn[0][0]']       \n",
      "                                                                                                  \n",
      " conv_pad_12 (ZeroPadding2D  (None, 15, 15, 512)          0         ['conv_pw_11_relu[0][0]']     \n",
      " )                                                                                                \n",
      "                                                                                                  \n",
      " conv_dw_12 (DepthwiseConv2  (None, 7, 7, 512)            4608      ['conv_pad_12[0][0]']         \n",
      " D)                                                                                               \n",
      "                                                                                                  \n",
      " conv_dw_12_bn (BatchNormal  (None, 7, 7, 512)            2048      ['conv_dw_12[0][0]']          \n",
      " ization)                                                                                         \n",
      "                                                                                                  \n",
      " conv_dw_12_relu (ReLU)      (None, 7, 7, 512)            0         ['conv_dw_12_bn[0][0]']       \n",
      "                                                                                                  \n",
      " conv_pw_12 (Conv2D)         (None, 7, 7, 1024)           524288    ['conv_dw_12_relu[0][0]']     \n",
      "                                                                                                  \n",
      " conv_pw_12_bn (BatchNormal  (None, 7, 7, 1024)           4096      ['conv_pw_12[0][0]']          \n",
      " ization)                                                                                         \n",
      "                                                                                                  \n",
      " conv_pw_12_relu (ReLU)      (None, 7, 7, 1024)           0         ['conv_pw_12_bn[0][0]']       \n",
      "                                                                                                  \n",
      " conv_dw_13 (DepthwiseConv2  (None, 7, 7, 1024)           9216      ['conv_pw_12_relu[0][0]']     \n",
      " D)                                                                                               \n",
      "                                                                                                  \n",
      " conv_dw_13_bn (BatchNormal  (None, 7, 7, 1024)           4096      ['conv_dw_13[0][0]']          \n",
      " ization)                                                                                         \n",
      "                                                                                                  \n",
      " conv_dw_13_relu (ReLU)      (None, 7, 7, 1024)           0         ['conv_dw_13_bn[0][0]']       \n",
      "                                                                                                  \n",
      " conv_pw_13 (Conv2D)         (None, 7, 7, 1024)           1048576   ['conv_dw_13_relu[0][0]']     \n",
      "                                                                                                  \n",
      " conv_pw_13_bn (BatchNormal  (None, 7, 7, 1024)           4096      ['conv_pw_13[0][0]']          \n",
      " ization)                                                                                         \n",
      "                                                                                                  \n",
      " conv_pw_13_relu (ReLU)      (None, 7, 7, 1024)           0         ['conv_pw_13_bn[0][0]']       \n",
      "                                                                                                  \n",
      " decoder_stage0_upsampling   (None, 14, 14, 1024)         0         ['conv_pw_13_relu[0][0]']     \n",
      " (UpSampling2D)                                                                                   \n",
      "                                                                                                  \n",
      " decoder_stage0_concat (Con  (None, 14, 14, 1536)         0         ['decoder_stage0_upsampling[0]\n",
      " catenate)                                                          [0]',                         \n",
      "                                                                     'conv_pw_11_relu[0][0]']     \n",
      "                                                                                                  \n",
      " decoder_stage0a_conv (Conv  (None, 14, 14, 1024)         1415577   ['decoder_stage0_concat[0][0]'\n",
      " 2D)                                                      6         ]                             \n",
      "                                                                                                  \n",
      " decoder_stage0a_bn (BatchN  (None, 14, 14, 1024)         4096      ['decoder_stage0a_conv[0][0]']\n",
      " ormalization)                                                                                    \n",
      "                                                                                                  \n",
      " decoder_stage0a_relu (Acti  (None, 14, 14, 1024)         0         ['decoder_stage0a_bn[0][0]']  \n",
      " vation)                                                                                          \n",
      "                                                                                                  \n",
      " decoder_stage0b_conv (Conv  (None, 14, 14, 1024)         9437184   ['decoder_stage0a_relu[0][0]']\n",
      " 2D)                                                                                              \n",
      "                                                                                                  \n",
      " decoder_stage0b_bn (BatchN  (None, 14, 14, 1024)         4096      ['decoder_stage0b_conv[0][0]']\n",
      " ormalization)                                                                                    \n",
      "                                                                                                  \n",
      " decoder_stage0b_relu (Acti  (None, 14, 14, 1024)         0         ['decoder_stage0b_bn[0][0]']  \n",
      " vation)                                                                                          \n",
      "                                                                                                  \n",
      " decoder_stage1_upsampling   (None, 28, 28, 1024)         0         ['decoder_stage0b_relu[0][0]']\n",
      " (UpSampling2D)                                                                                   \n",
      "                                                                                                  \n",
      " decoder_stage1_concat (Con  (None, 28, 28, 1280)         0         ['decoder_stage1_upsampling[0]\n",
      " catenate)                                                          [0]',                         \n",
      "                                                                     'conv_pw_5_relu[0][0]']      \n",
      "                                                                                                  \n",
      " decoder_stage1a_conv (Conv  (None, 28, 28, 512)          5898240   ['decoder_stage1_concat[0][0]'\n",
      " 2D)                                                                ]                             \n",
      "                                                                                                  \n",
      " decoder_stage1a_bn (BatchN  (None, 28, 28, 512)          2048      ['decoder_stage1a_conv[0][0]']\n",
      " ormalization)                                                                                    \n",
      "                                                                                                  \n",
      " decoder_stage1a_relu (Acti  (None, 28, 28, 512)          0         ['decoder_stage1a_bn[0][0]']  \n",
      " vation)                                                                                          \n",
      "                                                                                                  \n",
      " decoder_stage1b_conv (Conv  (None, 28, 28, 512)          2359296   ['decoder_stage1a_relu[0][0]']\n",
      " 2D)                                                                                              \n",
      "                                                                                                  \n",
      " decoder_stage1b_bn (BatchN  (None, 28, 28, 512)          2048      ['decoder_stage1b_conv[0][0]']\n",
      " ormalization)                                                                                    \n",
      "                                                                                                  \n",
      " decoder_stage1b_relu (Acti  (None, 28, 28, 512)          0         ['decoder_stage1b_bn[0][0]']  \n",
      " vation)                                                                                          \n",
      "                                                                                                  \n",
      " decoder_stage2_upsampling   (None, 56, 56, 512)          0         ['decoder_stage1b_relu[0][0]']\n",
      " (UpSampling2D)                                                                                   \n",
      "                                                                                                  \n",
      " decoder_stage2_concat (Con  (None, 56, 56, 640)          0         ['decoder_stage2_upsampling[0]\n",
      " catenate)                                                          [0]',                         \n",
      "                                                                     'conv_pw_3_relu[0][0]']      \n",
      "                                                                                                  \n",
      " decoder_stage2a_conv (Conv  (None, 56, 56, 256)          1474560   ['decoder_stage2_concat[0][0]'\n",
      " 2D)                                                                ]                             \n",
      "                                                                                                  \n",
      " decoder_stage2a_bn (BatchN  (None, 56, 56, 256)          1024      ['decoder_stage2a_conv[0][0]']\n",
      " ormalization)                                                                                    \n",
      "                                                                                                  \n",
      " decoder_stage2a_relu (Acti  (None, 56, 56, 256)          0         ['decoder_stage2a_bn[0][0]']  \n",
      " vation)                                                                                          \n",
      "                                                                                                  \n",
      " decoder_stage2b_conv (Conv  (None, 56, 56, 256)          589824    ['decoder_stage2a_relu[0][0]']\n",
      " 2D)                                                                                              \n",
      "                                                                                                  \n",
      " decoder_stage2b_bn (BatchN  (None, 56, 56, 256)          1024      ['decoder_stage2b_conv[0][0]']\n",
      " ormalization)                                                                                    \n",
      "                                                                                                  \n",
      " decoder_stage2b_relu (Acti  (None, 56, 56, 256)          0         ['decoder_stage2b_bn[0][0]']  \n",
      " vation)                                                                                          \n",
      "                                                                                                  \n",
      " decoder_stage3_upsampling   (None, 112, 112, 256)        0         ['decoder_stage2b_relu[0][0]']\n",
      " (UpSampling2D)                                                                                   \n",
      "                                                                                                  \n",
      " decoder_stage3_concat (Con  (None, 112, 112, 320)        0         ['decoder_stage3_upsampling[0]\n",
      " catenate)                                                          [0]',                         \n",
      "                                                                     'conv_pw_1_relu[0][0]']      \n",
      "                                                                                                  \n",
      " decoder_stage3a_conv (Conv  (None, 112, 112, 128)        368640    ['decoder_stage3_concat[0][0]'\n",
      " 2D)                                                                ]                             \n",
      "                                                                                                  \n",
      " decoder_stage3a_bn (BatchN  (None, 112, 112, 128)        512       ['decoder_stage3a_conv[0][0]']\n",
      " ormalization)                                                                                    \n",
      "                                                                                                  \n",
      " decoder_stage3a_relu (Acti  (None, 112, 112, 128)        0         ['decoder_stage3a_bn[0][0]']  \n",
      " vation)                                                                                          \n",
      "                                                                                                  \n",
      " decoder_stage3b_conv (Conv  (None, 112, 112, 128)        147456    ['decoder_stage3a_relu[0][0]']\n",
      " 2D)                                                                                              \n",
      "                                                                                                  \n",
      " decoder_stage3b_bn (BatchN  (None, 112, 112, 128)        512       ['decoder_stage3b_conv[0][0]']\n",
      " ormalization)                                                                                    \n",
      "                                                                                                  \n",
      " decoder_stage3b_relu (Acti  (None, 112, 112, 128)        0         ['decoder_stage3b_bn[0][0]']  \n",
      " vation)                                                                                          \n",
      "                                                                                                  \n",
      " decoder_stage4_upsampling   (None, 224, 224, 128)        0         ['decoder_stage3b_relu[0][0]']\n",
      " (UpSampling2D)                                                                                   \n",
      "                                                                                                  \n",
      " decoder_stage4a_conv (Conv  (None, 224, 224, 64)         73728     ['decoder_stage4_upsampling[0]\n",
      " 2D)                                                                [0]']                         \n",
      "                                                                                                  \n",
      " decoder_stage4a_bn (BatchN  (None, 224, 224, 64)         256       ['decoder_stage4a_conv[0][0]']\n",
      " ormalization)                                                                                    \n",
      "                                                                                                  \n",
      " decoder_stage4a_relu (Acti  (None, 224, 224, 64)         0         ['decoder_stage4a_bn[0][0]']  \n",
      " vation)                                                                                          \n",
      "                                                                                                  \n",
      " decoder_stage4b_conv (Conv  (None, 224, 224, 64)         36864     ['decoder_stage4a_relu[0][0]']\n",
      " 2D)                                                                                              \n",
      "                                                                                                  \n",
      " decoder_stage4b_bn (BatchN  (None, 224, 224, 64)         256       ['decoder_stage4b_conv[0][0]']\n",
      " ormalization)                                                                                    \n",
      "                                                                                                  \n",
      " decoder_stage4b_relu (Acti  (None, 224, 224, 64)         0         ['decoder_stage4b_bn[0][0]']  \n",
      " vation)                                                                                          \n",
      "                                                                                                  \n",
      " final_conv (Conv2D)         (None, 224, 224, 1)          577       ['decoder_stage4b_relu[0][0]']\n",
      "                                                                                                  \n",
      " sigmoid (Activation)        (None, 224, 224, 1)          0         ['final_conv[0][0]']          \n",
      "                                                                                                  \n",
      " resizing (Resizing)         (None, 227, 227, 1)          0         ['sigmoid[0][0]']             \n",
      "                                                                                                  \n",
      " concatenate (Concatenate)   (None, 227, 227, 3)          0         ['resizing[0][0]',            \n",
      "                                                                     'resizing[0][0]',            \n",
      "                                                                     'resizing[0][0]']            \n",
      "                                                                                                  \n",
      " model (Functional)          (None, 5)                    2569101   ['concatenate[0][0]']         \n",
      "                                                          3                                       \n",
      "                                                                                                  \n",
      "==================================================================================================\n",
      "Total params: 63477894 (242.15 MB)\n",
      "Trainable params: 2103301 (8.02 MB)\n",
      "Non-trainable params: 61374593 (234.13 MB)\n",
      "__________________________________________________________________________________________________\n"
     ]
    }
   ],
   "source": [
    "model = load_model(\n",
    "    'models/trained/unet_resnet50.h5',\n",
    "    custom_objects={\n",
    "        'loss': Weighted_Cross_Entropy(10),\n",
    "        'F1_score': F1_score,\n",
    "        'F1_score_dil': F1_score_dil,\n",
    "        'Precision_dil': Precision_dil\n",
    "    },\n",
    "    compile=False\n",
    ")\n",
    "\n",
    "optimizer = tf.keras.optimizers.Adam(learning_rate=0.0005)\n",
    "\n",
    "model.compile(optimizer, loss=\"sparse_categorical_crossentropy\", metrics=[\"accuracy\"])\n",
    "\n",
    "model.summary()"
   ]
  },
  {
   "cell_type": "markdown",
   "metadata": {},
   "source": [
    "### 4. Evaluating the model"
   ]
  },
  {
   "cell_type": "code",
   "execution_count": 7,
   "metadata": {
    "ExecuteTime": {
     "end_time": "2024-04-02T19:04:51.020655Z",
     "start_time": "2024-04-02T19:01:03.286488Z"
    }
   },
   "outputs": [
    {
     "name": "stdout",
     "output_type": "stream",
     "text": [
      "15/15 [==============================] - 228s 15s/step - loss: 3.4907 - accuracy: 0.7250\n"
     ]
    }
   ],
   "source": [
    "loss, acc = model.evaluate(test_data)"
   ]
  },
  {
   "cell_type": "code",
   "execution_count": 8,
   "metadata": {
    "ExecuteTime": {
     "end_time": "2024-04-02T19:04:51.058293Z",
     "start_time": "2024-04-02T19:04:51.041404Z"
    }
   },
   "outputs": [
    {
     "name": "stdout",
     "output_type": "stream",
     "text": [
      "acc: 72.5%\n",
      "loss: 3.4906599521636963\n"
     ]
    }
   ],
   "source": [
    "print(f'acc: {round(acc*100,2)}%')\n",
    "print(f'loss: {loss}' )"
   ]
  },
  {
   "cell_type": "markdown",
   "metadata": {},
   "source": [
    "### 5. Making predictions"
   ]
  },
  {
   "cell_type": "code",
   "execution_count": 9,
   "metadata": {
    "ExecuteTime": {
     "end_time": "2024-04-02T19:08:42.920938Z",
     "start_time": "2024-04-02T19:04:51.062010Z"
    }
   },
   "outputs": [
    {
     "name": "stdout",
     "output_type": "stream",
     "text": [
      "15/15 [==============================] - 232s 15s/step\n"
     ]
    }
   ],
   "source": [
    "y_pred = np.argmax(model.predict(test_data), axis=-1).astype(np.uint8)"
   ]
  },
  {
   "cell_type": "code",
   "execution_count": 10,
   "metadata": {
    "ExecuteTime": {
     "end_time": "2024-04-02T19:08:42.957088Z",
     "start_time": "2024-04-02T19:08:42.923136Z"
    }
   },
   "outputs": [],
   "source": [
    "metrics = classification_report(test_data.labels, y_pred)"
   ]
  },
  {
   "cell_type": "code",
   "execution_count": 11,
   "metadata": {
    "ExecuteTime": {
     "end_time": "2024-04-02T19:08:42.965989Z",
     "start_time": "2024-04-02T19:08:42.958100Z"
    }
   },
   "outputs": [
    {
     "name": "stdout",
     "output_type": "stream",
     "text": [
      "              precision    recall  f1-score   support\n",
      "\n",
      "           0       0.65      0.98      0.78       240\n",
      "           1       0.97      0.47      0.63       240\n",
      "\n",
      "    accuracy                           0.73       480\n",
      "   macro avg       0.81      0.72      0.71       480\n",
      "weighted avg       0.81      0.72      0.71       480\n"
     ]
    }
   ],
   "source": [
    "print(metrics)"
   ]
  },
  {
   "cell_type": "code",
   "execution_count": 12,
   "metadata": {
    "ExecuteTime": {
     "end_time": "2024-04-02T19:08:42.987244Z",
     "start_time": "2024-04-02T19:08:42.969477Z"
    }
   },
   "outputs": [],
   "source": [
    "x = f1_score(test_data.labels, y_pred)\n",
    "y = precision_score(test_data.labels, y_pred)\n",
    "z = recall_score(test_data.labels, y_pred)"
   ]
  },
  {
   "cell_type": "code",
   "execution_count": 13,
   "metadata": {
    "ExecuteTime": {
     "end_time": "2024-04-02T19:08:42.997306Z",
     "start_time": "2024-04-02T19:08:42.988937Z"
    }
   },
   "outputs": [
    {
     "name": "stdout",
     "output_type": "stream",
     "text": [
      "F1 Score: 62.92%\n",
      "Precision Score: 96.55%\n",
      "Recall Score: 46.67%\n"
     ]
    }
   ],
   "source": [
    "print(f'F1 Score: {round(x*100,2)}%')\n",
    "print(f'Precision Score: {round(y*100,2)}%')\n",
    "print(f'Recall Score: {round(z*100,2)}%')"
   ]
  },
  {
   "cell_type": "code",
   "execution_count": 14,
   "metadata": {
    "ExecuteTime": {
     "end_time": "2024-04-02T19:08:43.202660Z",
     "start_time": "2024-04-02T19:08:43.001929Z"
    }
   },
   "outputs": [
    {
     "data": {
      "image/png": "[encoded data removed]",
      "text/plain": [
       "<Figure size 300x300 with 1 Axes>"
      ]
     },
     "metadata": {},
     "output_type": "display_data"
    }
   ],
   "source": [
    "disp = plot_confusion_matrix(test_data.labels, y_pred, title='Unet-ResNet50')\n",
    "\n",
    "plt.show()"
   ]
  }
 ],
 "metadata": {
  "kernelspec": {
   "display_name": "cilab",
   "language": "python",
   "name": "python3"
  },
  "language_info": {
   "codemirror_mode": {
    "name": "ipython",
    "version": 3
   },
   "file_extension": ".py",
   "mimetype": "text/x-python",
   "name": "python",
   "nbconvert_exporter": "python",
   "pygments_lexer": "ipython3",
   "version": "3.11.6"
  }
 },
 "nbformat": 4,
 "nbformat_minor": 2
}
