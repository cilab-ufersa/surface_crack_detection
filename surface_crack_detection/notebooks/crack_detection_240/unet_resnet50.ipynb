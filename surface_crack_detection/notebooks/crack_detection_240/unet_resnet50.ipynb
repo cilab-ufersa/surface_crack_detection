{
 "cells": [
  {
   "cell_type": "markdown",
   "metadata": {},
   "source": [
    "### 1. Importing libraries"
   ]
  },
  {
   "cell_type": "code",
   "execution_count": 4,
   "metadata": {
    "ExecuteTime": {
     "end_time": "2024-04-02T19:00:58.784888Z",
     "start_time": "2024-04-02T19:00:58.779164Z"
    }
   },
   "source": [
    "import tensorflow as tf\n",
    "import numpy as np\n",
    "import pandas as pd\n",
    "import matplotlib.pyplot as plt\n",
    "\n",
    "from keras.models import load_model\n",
    "from sklearn.metrics import (\n",
    "    classification_report,\n",
    "    f1_score,\n",
    "    precision_score,\n",
    "    recall_score\n",
    ")\n",
    "from crack_segmentation.subroutines.loss_metrics import (\n",
    "    Weighted_Cross_Entropy,\n",
    "    F1_score_dil,\n",
    "    F1_score,\n",
    "    Precision_dil\n",
    ")\n",
    "\n",
    "from utils.utils import plot_confusion_matrix, generate_tensor"
   ],
   "outputs": []
  },
  {
   "cell_type": "markdown",
   "metadata": {},
   "source": [
    "### 2. Loading the dataset"
   ]
  },
  {
   "cell_type": "code",
   "execution_count": 5,
   "metadata": {
    "ExecuteTime": {
     "end_time": "2024-04-02T19:00:58.847653Z",
     "start_time": "2024-04-02T19:00:58.814088Z"
    }
   },
   "source": [
    "dataset = pd.read_csv('../dataset/dataset.csv')\n",
    "\n",
    "test_df = dataset.sample(frac=1.0, random_state=42)\n",
    "\n",
    "preprocess_input = tf.keras.applications.resnet.preprocess_input\n",
    "\n",
    "test_data = generate_tensor( \n",
    "        test_df, \n",
    "        image_size=(224,224),\n",
    "        image_channels=1,\n",
    "        preprocess_input=preprocess_input\n",
    ")"
   ],
   "outputs": []
  },
  {
   "cell_type": "markdown",
   "metadata": {},
   "source": [
    "### 3. Importing the UNet-ResNet50 model"
   ]
  },
  {
   "cell_type": "code",
   "execution_count": 15,
   "metadata": {
    "ExecuteTime": {
     "end_time": "2024-04-02T19:11:28.020759Z",
     "start_time": "2024-04-02T19:11:23.731237Z"
    }
   },
   "source": [
    "model = load_model(\n",
    "    'models/trained/unet_resnet50.h5',\n",
    "    custom_objects={\n",
    "        'loss': Weighted_Cross_Entropy(10),\n",
    "        'F1_score': F1_score,\n",
    "        'F1_score_dil': F1_score_dil,\n",
    "        'Precision_dil': Precision_dil\n",
    "    },\n",
    "    compile=False\n",
    ")\n",
    "\n",
    "optimizer = tf.keras.optimizers.Adam(learning_rate=0.0005)\n",
    "\n",
    "model.compile(optimizer, loss=\"sparse_categorical_crossentropy\", metrics=[\"accuracy\"])\n",
    "\n",
    "model.summary()"
   ],
   "outputs": []
  },
  {
   "cell_type": "markdown",
   "metadata": {},
   "source": [
    "### 4. Evaluating the model"
   ]
  },
  {
   "cell_type": "code",
   "execution_count": 7,
   "metadata": {
    "ExecuteTime": {
     "end_time": "2024-04-02T19:04:51.020655Z",
     "start_time": "2024-04-02T19:01:03.286488Z"
    }
   },
   "source": [
    "loss, acc = model.evaluate(test_data)"
   ],
   "outputs": []
  },
  {
   "cell_type": "code",
   "execution_count": 8,
   "metadata": {
    "ExecuteTime": {
     "end_time": "2024-04-02T19:04:51.058293Z",
     "start_time": "2024-04-02T19:04:51.041404Z"
    }
   },
   "source": [
    "print(f'acc: {round(acc*100,2)}%')\n",
    "print(f'loss: {loss}' )"
   ],
   "outputs": []
  },
  {
   "cell_type": "markdown",
   "metadata": {},
   "source": [
    "### 5. Making predictions"
   ]
  },
  {
   "cell_type": "code",
   "execution_count": 9,
   "metadata": {
    "ExecuteTime": {
     "end_time": "2024-04-02T19:08:42.920938Z",
     "start_time": "2024-04-02T19:04:51.062010Z"
    }
   },
   "source": [
    "y_pred = np.argmax(model.predict(test_data), axis=-1).astype(np.uint8)"
   ],
   "outputs": []
  },
  {
   "cell_type": "code",
   "execution_count": 10,
   "metadata": {
    "ExecuteTime": {
     "end_time": "2024-04-02T19:08:42.957088Z",
     "start_time": "2024-04-02T19:08:42.923136Z"
    }
   },
   "source": [
    "metrics = classification_report(test_data.labels, y_pred)"
   ],
   "outputs": []
  },
  {
   "cell_type": "code",
   "execution_count": 11,
   "metadata": {
    "ExecuteTime": {
     "end_time": "2024-04-02T19:08:42.965989Z",
     "start_time": "2024-04-02T19:08:42.958100Z"
    }
   },
   "source": [
    "print(metrics)"
   ],
   "outputs": []
  },
  {
   "cell_type": "code",
   "execution_count": 12,
   "metadata": {
    "ExecuteTime": {
     "end_time": "2024-04-02T19:08:42.987244Z",
     "start_time": "2024-04-02T19:08:42.969477Z"
    }
   },
   "source": [
    "x = f1_score(test_data.labels, y_pred)\n",
    "y = precision_score(test_data.labels, y_pred)\n",
    "z = recall_score(test_data.labels, y_pred)"
   ],
   "outputs": []
  },
  {
   "cell_type": "code",
   "execution_count": 13,
   "metadata": {
    "ExecuteTime": {
     "end_time": "2024-04-02T19:08:42.997306Z",
     "start_time": "2024-04-02T19:08:42.988937Z"
    }
   },
   "source": [
    "print(f'F1 Score: {round(x*100,2)}%')\n",
    "print(f'Precision Score: {round(y*100,2)}%')\n",
    "print(f'Recall Score: {round(z*100,2)}%')"
   ],
   "outputs": []
  },
  {
   "cell_type": "code",
   "execution_count": 14,
   "metadata": {
    "ExecuteTime": {
     "end_time": "2024-04-02T19:08:43.202660Z",
     "start_time": "2024-04-02T19:08:43.001929Z"
    }
   },
   "source": [
    "disp = plot_confusion_matrix(test_data.labels, y_pred, title='Unet-ResNet50')\n",
    "\n",
    "plt.show()"
   ],
   "outputs": []
  }
 ],
 "metadata": {
  "kernelspec": {
   "display_name": "cilab",
   "language": "python",
   "name": "python3"
  },
  "language_info": {
   "codemirror_mode": {
    "name": "ipython",
    "version": 3
   },
   "file_extension": ".py",
   "mimetype": "text/x-python",
   "name": "python",
   "nbconvert_exporter": "python",
   "pygments_lexer": "ipython3",
   "version": "3.11.6"
  }
 },
 "nbformat": 4,
 "nbformat_minor": 2
}
