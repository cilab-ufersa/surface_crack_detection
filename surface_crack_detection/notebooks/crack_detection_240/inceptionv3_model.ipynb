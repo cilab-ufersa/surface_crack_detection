{
 "cells": [
  {
   "cell_type": "markdown",
   "metadata": {},
   "source": [
    "### 1. Importing necessary libraries"
   ]
  },
  {
   "cell_type": "code",
   "execution_count": 1,
   "metadata": {
    "ExecuteTime": {
     "end_time": "2024-04-02T12:16:14.474311Z",
     "start_time": "2024-04-02T12:16:07.310697Z"
    }
   },
   "source": [
    "import numpy as np\n",
    "import matplotlib.pyplot as plt\n",
    "import pandas as pd\n",
    "import tensorflow as tf\n",
    "\n",
    "from sklearn.metrics import (\n",
    "    f1_score,\n",
    "    precision_score,\n",
    "    recall_score\n",
    ")\n",
    "from utils.utils import plot_confusion_matrix, generate_tensor"
   ],
   "outputs": []
  },
  {
   "cell_type": "markdown",
   "metadata": {},
   "source": [
    "### 2. Loading the dataset"
   ]
  },
  {
   "cell_type": "code",
   "execution_count": 2,
   "metadata": {
    "ExecuteTime": {
     "end_time": "2024-04-02T12:16:14.486623Z",
     "start_time": "2024-04-02T12:16:14.475742Z"
    }
   },
   "source": [
    "dataset = pd.read_csv('../dataset/dataset.csv')"
   ],
   "outputs": []
  },
  {
   "cell_type": "markdown",
   "metadata": {},
   "source": [
    "### 3. Preparing the data"
   ]
  },
  {
   "cell_type": "code",
   "execution_count": 3,
   "metadata": {
    "ExecuteTime": {
     "end_time": "2024-04-02T12:16:14.496514Z",
     "start_time": "2024-04-02T12:16:14.488507Z"
    }
   },
   "source": [
    "test_df = dataset.sample(frac=1.0, random_state=42)"
   ],
   "outputs": []
  },
  {
   "cell_type": "code",
   "source": [
    "test_data = generate_tensor(test_df, image_size=(227,227))"
   ],
   "metadata": {
    "collapsed": false,
    "ExecuteTime": {
     "end_time": "2024-04-02T12:16:14.656295Z",
     "start_time": "2024-04-02T12:16:14.498709Z"
    }
   },
   "execution_count": 4,
   "outputs": []
  },
  {
   "cell_type": "markdown",
   "metadata": {},
   "source": [
    "### 4. Loading the InceptionV3 model"
   ]
  },
  {
   "cell_type": "code",
   "execution_count": 5,
   "metadata": {
    "ExecuteTime": {
     "end_time": "2024-04-02T12:16:25.012513Z",
     "start_time": "2024-04-02T12:16:14.658306Z"
    }
   },
   "source": [
    "model = tf.keras.models.load_model('./models/trained/inception_model.h5')\n",
    "\n",
    "model.summary()"
   ],
   "outputs": []
  },
  {
   "cell_type": "markdown",
   "metadata": {},
   "source": [
    "### 5. Making predictions"
   ]
  },
  {
   "cell_type": "code",
   "execution_count": 6,
   "metadata": {
    "ExecuteTime": {
     "end_time": "2024-04-02T12:16:47.971109Z",
     "start_time": "2024-04-02T12:16:25.038222Z"
    }
   },
   "source": [
    "y_pred = np.squeeze(model.predict(test_data) >= 0.5).astype(np.int32)"
   ],
   "outputs": []
  },
  {
   "cell_type": "code",
   "execution_count": 7,
   "metadata": {
    "ExecuteTime": {
     "end_time": "2024-04-02T12:16:48.001242Z",
     "start_time": "2024-04-02T12:16:47.972125Z"
    }
   },
   "source": [
    "x = f1_score(y_true=test_data.labels, y_pred=y_pred)\n",
    "y = precision_score(y_true=test_data.labels, y_pred=y_pred)\n",
    "z = recall_score(y_true=test_data.labels, y_pred=y_pred)"
   ],
   "outputs": []
  },
  {
   "cell_type": "code",
   "execution_count": 8,
   "metadata": {
    "ExecuteTime": {
     "end_time": "2024-04-02T12:16:48.011145Z",
     "start_time": "2024-04-02T12:16:48.002348Z"
    }
   },
   "source": [
    "print(f'F1 Score: {round(x*100,2)}%')\n",
    "print(f'Precision Score: {round(y*100,2)}%')\n",
    "print(f'Recall Score: {round(z*100,2)}%')"
   ],
   "outputs": []
  },
  {
   "cell_type": "code",
   "execution_count": 9,
   "metadata": {
    "ExecuteTime": {
     "end_time": "2024-04-02T12:16:48.247125Z",
     "start_time": "2024-04-02T12:16:48.014077Z"
    }
   },
   "source": [
    "disp = plot_confusion_matrix(test_data.labels, y_pred, title = 'InceptionV3')\n",
    "\n",
    "plt.show()"
   ],
   "outputs": []
  },
  {
   "cell_type": "code",
   "execution_count": 10,
   "metadata": {
    "ExecuteTime": {
     "end_time": "2024-04-02T12:16:48.704856Z",
     "start_time": "2024-04-02T12:16:48.249696Z"
    }
   },
   "source": [
    "disp.figure_.savefig('./models/figures/inceptionv3/inceptionv3_confusion_matrix.eps')\n",
    "disp.figure_.savefig('./models/figures/inceptionv3/inceptionv3_confusion_matrix.png')"
   ],
   "outputs": []
  },
  {
   "cell_type": "markdown",
   "metadata": {},
   "source": [
    "### 6. Evaluating the model"
   ]
  },
  {
   "cell_type": "code",
   "execution_count": 11,
   "metadata": {
    "ExecuteTime": {
     "end_time": "2024-04-02T12:17:10.867608Z",
     "start_time": "2024-04-02T12:16:48.707023Z"
    }
   },
   "source": [
    "loss, acc = model.evaluate(test_data)"
   ],
   "outputs": []
  },
  {
   "cell_type": "code",
   "execution_count": 12,
   "metadata": {
    "ExecuteTime": {
     "end_time": "2024-04-02T12:17:10.877566Z",
     "start_time": "2024-04-02T12:17:10.869855Z"
    }
   },
   "source": [
    "print(f'acc: {round(acc*100,2)}%')\n",
    "print(f'loss: {loss}' )"
   ],
   "outputs": []
  }
 ],
 "metadata": {
  "kernelspec": {
   "display_name": "cilab",
   "language": "python",
   "name": "python3"
  },
  "language_info": {
   "codemirror_mode": {
    "name": "ipython",
    "version": 3
   },
   "file_extension": ".py",
   "mimetype": "text/x-python",
   "name": "python",
   "nbconvert_exporter": "python",
   "pygments_lexer": "ipython3",
   "version": "3.11.0rc1"
  },
  "orig_nbformat": 4
 },
 "nbformat": 4,
 "nbformat_minor": 2
}
