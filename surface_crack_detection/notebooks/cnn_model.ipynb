{
 "cells": [
  {
   "cell_type": "markdown",
   "metadata": {},
   "source": [
    "### **1. Importing necessary libraries**"
   ]
  },
  {
   "cell_type": "code",
   "execution_count": 1,
   "metadata": {
    "ExecuteTime": {
     "end_time": "2024-04-02T12:38:18.212420Z",
     "start_time": "2024-04-02T12:38:18.207557Z"
    }
   },
   "source": [
    "import numpy as np\n",
    "import matplotlib.pyplot as plt\n",
    "import pandas as pd\n",
    "\n",
    "import keras\n",
    "import pickle\n",
    "\n",
    "from sklearn.model_selection import train_test_split\n",
    "from sklearn.metrics import classification_report\n",
    "from utils.utils import plot_confusion_matrix, split_data"
   ],
   "outputs": []
  },
  {
   "cell_type": "markdown",
   "metadata": {},
   "source": [
    "### **2. CNN Model**"
   ]
  },
  {
   "cell_type": "code",
   "execution_count": 2,
   "metadata": {
    "ExecuteTime": {
     "end_time": "2024-04-02T12:38:18.409906Z",
     "start_time": "2024-04-02T12:38:18.271327Z"
    }
   },
   "source": [
    "# loading model\n",
    "model = keras.models.load_model('./models/trained/cnn_model.h5')\n",
    "\n",
    "model.summary()"
   ],
   "outputs": []
  },
  {
   "cell_type": "code",
   "execution_count": 3,
   "metadata": {
    "ExecuteTime": {
     "end_time": "2024-04-02T12:38:18.419008Z",
     "start_time": "2024-04-02T12:38:18.413199Z"
    }
   },
   "source": [
    "# loading model's history\n",
    "with open('./models/historys/cnn_model_history', 'rb') as f:\n",
    "    history = pickle.load(f)"
   ],
   "outputs": []
  },
  {
   "cell_type": "markdown",
   "metadata": {},
   "source": [
    "#### 2.1 Curves"
   ]
  },
  {
   "cell_type": "code",
   "execution_count": 4,
   "metadata": {
    "ExecuteTime": {
     "end_time": "2024-04-02T12:38:19.033121Z",
     "start_time": "2024-04-02T12:38:18.420018Z"
    }
   },
   "source": [
    "plt.figure(figsize = (10, 4))\n",
    "\n",
    "plt.subplot(1, 2, 1)\n",
    "plt.plot(history['accuracy'])\n",
    "plt.plot(history['val_accuracy'])\n",
    "plt.title(\"Training and validation accuracy\")\n",
    "plt.xlabel(\"Epochs\")\n",
    "plt.ylabel(\"Accuracy\")\n",
    "plt.legend([\"Training\", \"Accuracy\"])\n",
    "\n",
    "plt.subplot(1, 2, 2)\n",
    "plt.plot(history['loss'])\n",
    "plt.plot(history['val_loss'])\n",
    "plt.title(\"Training and validation loss\")\n",
    "plt.xlabel(\"Epochs\")\n",
    "plt.ylabel(\"Loss\")\n",
    "plt.legend([\"Training Loss\", \"Validation Loss\"])\n",
    "\n",
    "plt.savefig('./models/figures/cnn/CNN-curves.jpg')\n",
    "\n",
    "plt.show()"
   ],
   "outputs": []
  },
  {
   "cell_type": "markdown",
   "metadata": {},
   "source": [
    "#### 2.2 Loading datas"
   ]
  },
  {
   "cell_type": "code",
   "execution_count": 5,
   "metadata": {
    "ExecuteTime": {
     "end_time": "2024-04-02T12:38:19.045873Z",
     "start_time": "2024-04-02T12:38:19.035128Z"
    }
   },
   "source": [
    "#load dataset\n",
    "dataset = pd.read_csv('../dataset/dataset_final.csv')\n",
    "\n",
    "# refactor values in filepath column added ../ to the path\n",
    "dataset['Filepath'] = dataset['Filepath'].apply(lambda x: '../' + x)\n",
    "\n",
    "dataset.head()"
   ],
   "outputs": []
  },
  {
   "cell_type": "code",
   "execution_count": 6,
   "metadata": {
    "ExecuteTime": {
     "end_time": "2024-04-02T12:38:19.052743Z",
     "start_time": "2024-04-02T12:38:19.046380Z"
    }
   },
   "source": [
    "train_df, test_df = train_test_split(\n",
    "    dataset.sample(frac=1.0, random_state=42),\n",
    "    train_size=0.80,\n",
    "    random_state=42\n",
    ")"
   ],
   "outputs": []
  },
  {
   "cell_type": "code",
   "execution_count": 7,
   "metadata": {
    "ExecuteTime": {
     "end_time": "2024-04-02T12:38:19.084655Z",
     "start_time": "2024-04-02T12:38:19.053750Z"
    },
    "collapsed": false
   },
   "source": [
    "train_data, validation_data, test_data = split_data(train_df, test_df)"
   ],
   "outputs": []
  },
  {
   "cell_type": "markdown",
   "metadata": {},
   "source": [
    "#### 2.3 Testing the model"
   ]
  },
  {
   "cell_type": "code",
   "execution_count": 8,
   "metadata": {
    "ExecuteTime": {
     "end_time": "2024-04-02T12:38:21.228563Z",
     "start_time": "2024-04-02T12:38:19.085661Z"
    }
   },
   "source": [
    "y_pred = np.squeeze(model.predict(test_data) >= 0.5).astype(np.int32)"
   ],
   "outputs": []
  },
  {
   "cell_type": "code",
   "execution_count": 9,
   "metadata": {
    "ExecuteTime": {
     "end_time": "2024-04-02T12:38:21.241351Z",
     "start_time": "2024-04-02T12:38:21.229579Z"
    }
   },
   "source": [
    "from sklearn.metrics import f1_score, precision_score, recall_score\n",
    "\n",
    "x = f1_score(test_data.labels, y_pred)\n",
    "y = precision_score(test_data.labels, y_pred)\n",
    "z = recall_score(test_data.labels, y_pred)"
   ],
   "outputs": []
  },
  {
   "cell_type": "code",
   "execution_count": 10,
   "metadata": {
    "ExecuteTime": {
     "end_time": "2024-04-02T12:38:21.248327Z",
     "start_time": "2024-04-02T12:38:21.243359Z"
    },
    "collapsed": false
   },
   "source": [
    "print(f'F1 Score: {round(x*100,2)}%')\n",
    "print(f'Precision Score: {round(y*100,2)}%')\n",
    "print(f'Recall Score: {round(z*100,2)}%')"
   ],
   "outputs": []
  },
  {
   "cell_type": "code",
   "execution_count": 11,
   "metadata": {
    "ExecuteTime": {
     "end_time": "2024-04-02T12:38:23.790935Z",
     "start_time": "2024-04-02T12:38:21.250656Z"
    }
   },
   "source": [
    "results = model.evaluate(test_data)\n",
    "\n",
    "# assigning the results into loss and accuracy\n",
    "loss = results[0]\n",
    "accuracy = results[1]\n",
    "\n",
    "# showing up the results\n",
    "print(f\"Model's accuracy: {(accuracy*100):0.2f}%\")\n",
    "print(f\"Model's loss: {(loss):0.2f}\")"
   ],
   "outputs": []
  },
  {
   "cell_type": "code",
   "execution_count": 12,
   "metadata": {
    "ExecuteTime": {
     "end_time": "2024-04-02T12:38:23.901252Z",
     "start_time": "2024-04-02T12:38:23.791944Z"
    }
   },
   "source": [
    "# creating the confusion matrix\n",
    "classifications = classification_report(test_data.labels, y_pred, target_names = [\"Without crack\", \"With crack\"])\n",
    "\n",
    "print(classifications)\n",
    "\n",
    "# ploting the Matrix\n",
    "disp = plot_confusion_matrix(test_data.labels, y_pred, title=\"CNN\")"
   ],
   "outputs": []
  },
  {
   "cell_type": "code",
   "execution_count": 13,
   "metadata": {
    "ExecuteTime": {
     "end_time": "2024-04-02T12:38:23.978930Z",
     "start_time": "2024-04-02T12:38:23.901758Z"
    }
   },
   "source": [
    "disp.figure_.savefig('./models/figures/cnn/CNN-confusion-matrix_final.png')\n",
    "disp.figure_.savefig('./models/figures/cnn/CNN-confusion-matrix_final.eps')"
   ],
   "outputs": []
  }
 ],
 "metadata": {
  "kernelspec": {
   "display_name": "cilab",
   "language": "python",
   "name": "python3"
  },
  "language_info": {
   "codemirror_mode": {
    "name": "ipython",
    "version": 3
   },
   "file_extension": ".py",
   "mimetype": "text/x-python",
   "name": "python",
   "nbconvert_exporter": "python",
   "pygments_lexer": "ipython3",
   "version": "3.11.0rc1"
  },
  "orig_nbformat": 4
 },
 "nbformat": 4,
 "nbformat_minor": 2
}
