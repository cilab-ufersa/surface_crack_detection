{
 "cells": [
  {
   "cell_type": "markdown",
   "metadata": {},
   "source": [
    "### **1. Importing libraries**"
   ]
  },
  {
   "cell_type": "code",
   "execution_count": null,
   "metadata": {},
   "outputs": [],
   "source": [
    "import tensorflow as tf\n",
    "import numpy as np\n",
    "import pandas as pd\n",
    "import matplotlib.pyplot as plt\n",
    "import cv2\n",
    "\n",
    "from keras.models import load_model\n",
    "from sklearn.model_selection import train_test_split\n",
    "from sklearn.metrics import classification_report\n",
    "from utils.utils import split_data\n",
    "from crack_segmentation.subroutines.loss_metrics import(\n",
    "    Weighted_Cross_Entropy,\n",
    "    F1_score_dil,\n",
    "    F1_score,\n",
    "    Precision_dil\n",
    ")"
   ]
  },
  {
   "cell_type": "markdown",
   "metadata": {},
   "source": [
    "### **2. Loading the dataset**"
   ]
  },
  {
   "cell_type": "code",
   "execution_count": null,
   "metadata": {},
   "outputs": [],
   "source": [
    "dataset = pd.read_csv('../dataset/dataset_final.csv')\n",
    "\n",
    "dataset['Filepath'] = dataset['Filepath'].apply(lambda x: '../' + x)\n",
    "\n",
    "train_df, test_df = train_test_split(\n",
    "    dataset.sample(6000, random_state=42),\n",
    "    train_size=0.80,\n",
    "    random_state=42\n",
    ")\n",
    "\n",
    "preprocess_input = tf.keras.applications.resnet.preprocess_input\n",
    "\n",
    "train_data, valid_data, test_data = split_data(\n",
    "        train_df, \n",
    "        test_df, \n",
    "        image_height=224,\n",
    "        image_width=224\n",
    "        image_channels=1.0, \n",
    "        preprocess_input=preprocess_input,\n",
    "    )"
   ]
  },
  {
   "cell_type": "markdown",
   "metadata": {},
   "source": [
    "### **3. Importing the UNet-ResNet50 Model**"
   ]
  },
  {
   "cell_type": "code",
   "execution_count": null,
   "metadata": {},
   "outputs": [],
   "source": [
    "model = load_model(\n",
    "    './crack_segmentation/output/checkpoints/unet_resnet50.h5',\n",
    "    custom_objects={\n",
    "        'loss': Weighted_Cross_Entropy(10),\n",
    "        'Precision_dil': Precision_dil,\n",
    "        'F1_score': F1_score,\n",
    "        'F1_score_dil': F1_score_dil\n",
    "    }\n",
    ")"
   ]
  },
  {
   "cell_type": "markdown",
   "metadata": {},
   "source": [
    "### **4. Evaluating the model**"
   ]
  },
  {
   "cell_type": "code",
   "execution_count": null,
   "metadata": {},
   "outputs": [],
   "source": [
    "loss, acc = model.evaluate(test_data)\n",
    "\n",
    "print(f\"loss' model: {loss}\")\n",
    "print(f\"accuracy's model: {acc}\")"
   ]
  },
  {
   "cell_type": "markdown",
   "metadata": {},
   "source": [
    "### **5. Making predictions**"
   ]
  },
  {
   "cell_type": "code",
   "execution_count": null,
   "metadata": {},
   "outputs": [],
   "source": [
    "y_pred = np.argmax(model.predict(test_data), axis=-1)\n",
    "metrics = classification_report(test_data.labels, y_pred)\n",
    "\n",
    "print(metrics)"
   ]
  }
 ],
 "metadata": {
  "kernelspec": {
   "display_name": "cilab",
   "language": "python",
   "name": "python3"
  },
  "language_info": {
   "codemirror_mode": {
    "name": "ipython",
    "version": 3
   },
   "file_extension": ".py",
   "mimetype": "text/x-python",
   "name": "python",
   "nbconvert_exporter": "python",
   "pygments_lexer": "ipython3",
   "version": "3.11.6"
  }
 },
 "nbformat": 4,
 "nbformat_minor": 2
}
