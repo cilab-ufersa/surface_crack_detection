{
 "cells": [
  {
   "cell_type": "markdown",
   "metadata": {
    "id": "9O3Hxs3DCC4C"
   },
   "source": [
    "## 1. Environment set-up"
   ]
  },
  {
   "cell_type": "code",
   "execution_count": 2,
   "metadata": {
    "id": "iznDyk5pDNpG"
   },
   "outputs": [],
   "source": [
    "import os\n",
    "import numpy as np\n",
    "import torch\n",
    "import matplotlib.pyplot as plt\n",
    "import cv2\n",
    "import supervision as sv\n",
    "from segment_anything import sam_model_registry, SamAutomaticMaskGenerator"
   ]
  },
  {
   "cell_type": "markdown",
   "metadata": {
    "id": "HURXxConDcNq"
   },
   "source": [
    "## 2. Loading the dataset"
   ]
  },
  {
   "cell_type": "code",
   "execution_count": 4,
   "metadata": {
    "id": "E1wJHG_SDhKe"
   },
   "outputs": [
    {
     "name": "stdout",
     "output_type": "stream",
     "text": [
      "O dataset contém 21 imagens.\n"
     ]
    }
   ],
   "source": [
    "dataset = os.listdir('../../../dataset/SteelDefect/data')\n",
    "images = []\n",
    "\n",
    "for paths in sorted(dataset):\n",
    "\n",
    "  image_bgr = cv2.imread(f'../../../dataset/SteelDefect/data/{paths}')\n",
    "\n",
    "  image_rgb = cv2.cvtColor(image_bgr, cv2.COLOR_BGR2RGB)\n",
    "\n",
    "  data = {'name': paths,\n",
    "        'bgr': image_bgr,\n",
    "        'rgb': image_rgb}\n",
    "\n",
    "  images.append(data)\n",
    "\n",
    "print(f\"O dataset contém {len(images)} imagens.\")"
   ]
  },
  {
   "cell_type": "markdown",
   "metadata": {
    "id": "eQwlf2ctEtwp"
   },
   "source": [
    "## 3. Set-up SAM model"
   ]
  },
  {
   "cell_type": "code",
   "execution_count": 4,
   "metadata": {
    "colab": {
     "base_uri": "https://localhost:8080/"
    },
    "id": "o9j469bWEtX1",
    "outputId": "94aedb88-ca48-4099-e777-a1bc760b7ab0"
   },
   "outputs": [
    {
     "name": "stdout",
     "output_type": "stream",
     "text": [
      "Dispositivo utilizado: cuda:0\n"
     ]
    }
   ],
   "source": [
    "sam_checkpoint = \"../../models/trained/sam_vit_h_4b8939.pth\"\n",
    "model_type = \"vit_h\"\n",
    "\n",
    "device = torch.device('cuda:0' if torch.cuda.is_available() else 'cpu')\n",
    "\n",
    "sam = sam_model_registry[model_type](checkpoint=sam_checkpoint)\n",
    "sam.to(device=device)\n",
    "\n",
    "mask_generator = SamAutomaticMaskGenerator(\n",
    "    model=sam,\n",
    "    points_per_side=32,\n",
    "    pred_iou_thresh=0.86,\n",
    "    stability_score_thresh=0.92,\n",
    "    crop_n_layers=1,\n",
    "    crop_n_points_downscale_factor=2,\n",
    "    min_mask_region_area=100)\n",
    "\n",
    "print(f\"Dispositivo utilizado: {device}\")"
   ]
  },
  {
   "cell_type": "code",
   "execution_count": null,
   "metadata": {},
   "outputs": [],
   "source": [
    "def mean_iou(mask):\n",
    "  iou = np.array([\n",
    "      iou['predicted_iou'] for iou in mask\n",
    "  ])\n",
    "\n",
    "  return iou.mean()"
   ]
  },
  {
   "cell_type": "markdown",
   "metadata": {},
   "source": [
    "## 4. Automatic mask generation"
   ]
  },
  {
   "cell_type": "code",
   "execution_count": null,
   "metadata": {
    "id": "ygPx0O6HGljv"
   },
   "outputs": [],
   "source": [
    "ann_images = []\n",
    "sam_results = []\n",
    "iou = np.array([])\n",
    "\n",
    "mask_ann = sv.MaskAnnotator(color_lookup = sv.ColorLookup.INDEX)\n",
    "\n",
    "for image in images:\n",
    "  sam_result = mask_generator.generate(image['image_rgb'])\n",
    "\n",
    "  iou = np.append(iou, mean_iou(sam_result))\n",
    "  sam_results.append(sam_result)\n",
    "\n",
    "  detections = sv.Detections.from_sam(sam_result=sam_result)\n",
    "  ann_image = mask_ann.annotate(scene=image['image_bgr'], detections=detections)\n",
    "\n",
    "  cv2.imwrite(f'../steel_output/{image[\"path\"]}', ann_image)"
   ]
  },
  {
   "cell_type": "code",
   "execution_count": null,
   "metadata": {},
   "outputs": [],
   "source": [
    "print(f'iou mean: {iou.mean()}')"
   ]
  }
 ],
 "metadata": {
  "colab": {
   "provenance": []
  },
  "kernelspec": {
   "display_name": "Python 3",
   "name": "python3"
  },
  "language_info": {
   "codemirror_mode": {
    "name": "ipython",
    "version": 3
   },
   "file_extension": ".py",
   "mimetype": "text/x-python",
   "name": "python",
   "nbconvert_exporter": "python",
   "pygments_lexer": "ipython3",
   "version": "3.11.9"
  }
 },
 "nbformat": 4,
 "nbformat_minor": 0
}
