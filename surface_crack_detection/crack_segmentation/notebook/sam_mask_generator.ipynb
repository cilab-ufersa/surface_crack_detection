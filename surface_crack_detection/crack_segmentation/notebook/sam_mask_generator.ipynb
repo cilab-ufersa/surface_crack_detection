{
  "cells": [
    {
      "cell_type": "markdown",
      "metadata": {
        "id": "9O3Hxs3DCC4C"
      },
      "source": [
        "## 1. Environment set-up"
      ]
    },
    {
      "cell_type": "code",
      "execution_count": 1,
      "metadata": {
        "id": "iznDyk5pDNpG"
      },
      "outputs": [],
      "source": [
        "import numpy as np\n",
        "import torch\n",
        "import matplotlib.pyplot as plt\n",
        "import cv2\n",
        "\n",
        "from segment_anything import sam_model_registry, SamAutomaticMaskGenerator\n",
        "import supervision as sv\n",
        "import os"
      ]
    },
    {
      "cell_type": "markdown",
      "metadata": {
        "id": "HURXxConDcNq"
      },
      "source": [
        "## 2. Loading the dataset"
      ]
    },
    {
      "cell_type": "code",
      "execution_count": 3,
      "metadata": {
        "id": "E1wJHG_SDhKe"
      },
      "outputs": [
        {
          "name": "stdout",
          "output_type": "stream",
          "text": [
            "O dataset contém 5 imagens.\n"
          ]
        }
      ],
      "source": [
        "dataset = os.listdir('../../images/best_images/original')\n",
        "images = []\n",
        "\n",
        "for paths in sorted(dataset):\n",
        "\n",
        "  image_bgr = cv2.imread(f'../../images/best_images/original/{paths}')\n",
        "\n",
        "  image_rgb = cv2.cvtColor(image_bgr, cv2.COLOR_BGR2RGB)\n",
        "\n",
        "  data = {'name': paths,\n",
        "        'bgr': image_bgr,\n",
        "        'rgb': image_rgb}\n",
        "\n",
        "  images.append(data)\n",
        "\n",
        "print(f\"O dataset contém {len(images)} imagens.\")"
      ]
    },
    {
      "cell_type": "markdown",
      "metadata": {
        "id": "eQwlf2ctEtwp"
      },
      "source": [
        "## 3. Automatic mask generation"
      ]
    },
    {
      "cell_type": "code",
      "execution_count": 4,
      "metadata": {
        "colab": {
          "base_uri": "https://localhost:8080/"
        },
        "id": "o9j469bWEtX1",
        "outputId": "94aedb88-ca48-4099-e777-a1bc760b7ab0"
      },
      "outputs": [
        {
          "name": "stdout",
          "output_type": "stream",
          "text": [
            "Dispositivo utilizado: cuda:0\n"
          ]
        }
      ],
      "source": [
        "sam_checkpoint = \"../../models/trained/sam_vit_h_4b8939.pth\"\n",
        "model_type = \"vit_h\"\n",
        "\n",
        "device = torch.device('cuda:0' if torch.cuda.is_available() else 'cpu')\n",
        "\n",
        "sam = sam_model_registry[model_type](checkpoint=sam_checkpoint)\n",
        "sam.to(device=device)\n",
        "\n",
        "mask_generator = SamAutomaticMaskGenerator(\n",
        "    model=sam,\n",
        "    points_per_side=32,\n",
        "    pred_iou_thresh=0.86,\n",
        "    stability_score_thresh=0.92,\n",
        "    crop_n_layers=1,\n",
        "    crop_n_points_downscale_factor=2,\n",
        "    min_mask_region_area=100)\n",
        "\n",
        "print(f\"Dispositivo utilizado: {device}\")"
      ]
    },
    {
      "cell_type": "code",
      "execution_count": null,
      "metadata": {
        "id": "ygPx0O6HGljv"
      },
      "outputs": [],
      "source": [
        "annotaded_images = []\n",
        "mask_annotator = sv.MaskAnnotator(color_lookup = sv.ColorLookup.INDEX)\n",
        "\n",
        "\n",
        "output = len(os.listdir('/content/output/'))\n",
        "print(f\"A pasta de Output possui {output} imagens\")\n",
        "\n",
        "for image in images:\n",
        "\n",
        "    sam_result = mask_generator.generate(image['rgb'])\n",
        "\n",
        "\n",
        "    detections = sv.Detections.from_sam(sam_result=sam_result)\n",
        "    annotaded_image = mask_annotator.annotate(scene=image['bgr'], detections=detections)\n",
        "\n",
        "    # salvando a imagem\n",
        "    cv2.imwrite(f'/content/output/{(image[\"name\"])}', annotaded_image)\n",
        "\n",
        "    annotaded_images.append(annotaded_image)\n",
        "\n",
        "print(f'Foram gerados {len(annotaded_images)} resultados')"
      ]
    }
  ],
  "metadata": {
    "colab": {
      "provenance": []
    },
    "kernelspec": {
      "display_name": "Python 3",
      "name": "python3"
    },
    "language_info": {
      "codemirror_mode": {
        "name": "ipython",
        "version": 3
      },
      "file_extension": ".py",
      "mimetype": "text/x-python",
      "name": "python",
      "nbconvert_exporter": "python",
      "pygments_lexer": "ipython3",
      "version": "3.11.0rc1"
    }
  },
  "nbformat": 4,
  "nbformat_minor": 0
}
